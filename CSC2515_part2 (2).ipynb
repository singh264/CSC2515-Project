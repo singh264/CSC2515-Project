{
  "nbformat": 4,
  "nbformat_minor": 0,
  "metadata": {
    "colab": {
      "name": "CSC2515_part2.ipynb",
      "provenance": [],
      "collapsed_sections": [
        "kdeTeAv7wtSj"
      ]
    },
    "kernelspec": {
      "name": "python3",
      "display_name": "Python 3"
    },
    "accelerator": "GPU"
  },
  "cells": [
    {
      "cell_type": "code",
      "metadata": {
        "id": "I3SeaOF_yy0l"
      },
      "source": [
        "!pip install torch\n",
        "!pip install fastai==1.0.61"
      ],
      "execution_count": null,
      "outputs": []
    },
    {
      "cell_type": "code",
      "metadata": {
        "id": "DW-Lz_6Jza3h"
      },
      "source": [
        "import fastai\n",
        "from fastai import *\n",
        "from fastai.text import * \n",
        "import pandas as pd\n",
        "import numpy as np\n",
        "from functools import partial\n",
        "import io\n",
        "import os\n",
        "import json\n",
        "import matplotlib.pyplot as plt\n",
        "import numpy as np\n",
        "from pathlib import Path\n",
        "from typing import Dict\n",
        "from textblob import TextBlob\n",
        "import nltk\n",
        "from nltk.corpus import stopwords\n",
        "from sklearn.model_selection import train_test_split"
      ],
      "execution_count": 3,
      "outputs": []
    },
    {
      "cell_type": "code",
      "metadata": {
        "id": "Afh7ouFRzeUI"
      },
      "source": [
        "RENTTHERUNWAY_1_FILE_PATH = Path('./renttherunway_data_1.json')\n",
        "rtr_df_1 = pd.read_json(RENTTHERUNWAY_1_FILE_PATH, lines=True)\n",
        "RENTTHERUNWAY_2_FILE_PATH = Path('./renttherunway_data_2.json')\n",
        "rtr_df_2 = pd.read_json(RENTTHERUNWAY_2_FILE_PATH, lines=True)\n",
        "MOD_CLOTH_FILE_PATH = Path('./modcloth_data.json')\n",
        "mc_df = pd.read_json(MOD_CLOTH_FILE_PATH, lines=True)\n",
        "\n",
        "rtr_df_1 = pd.concat([rtr_df_1,rtr_df_2],ignore_index=True)\n"
      ],
      "execution_count": 4,
      "outputs": []
    },
    {
      "cell_type": "markdown",
      "metadata": {
        "id": "BOJEwGflz8g6"
      },
      "source": [
        "## Clean Text"
      ]
    },
    {
      "cell_type": "code",
      "metadata": {
        "colab": {
          "base_uri": "https://localhost:8080/"
        },
        "id": "Qp8JbXVnz3P2",
        "outputId": "b20dce90-8a59-4d2c-a860-cec5266e7a01"
      },
      "source": [
        "rtr_df_1['review_text'] = rtr_df_1['review_text'].str.replace(\"[^a-zA-Z]\", \" \")\n",
        "nltk.download('stopwords')\n",
        "stop_words = stopwords.words('english')\n",
        "tokenized_doc = rtr_df_1['review_text'].apply(lambda x: x.split())\n",
        "tokenized_doc = tokenized_doc.apply(lambda x: [item for item in x if item not in stop_words])\n",
        "detokenized_doc = [] \n",
        "for i in range(len(rtr_df_1)): \n",
        "    t = ' '.join(tokenized_doc[i]) \n",
        "    detokenized_doc.append(t) \n",
        "\n",
        "rtr_df_1['review_text'] = detokenized_doc"
      ],
      "execution_count": 5,
      "outputs": [
        {
          "output_type": "stream",
          "text": [
            "[nltk_data] Downloading package stopwords to /root/nltk_data...\n",
            "[nltk_data]   Package stopwords is already up-to-date!\n"
          ],
          "name": "stdout"
        }
      ]
    },
    {
      "cell_type": "code",
      "metadata": {
        "id": "DkVtN7eaMsMi"
      },
      "source": [
        "labels = {\"small\":0,\"fit\":1,\"large\":2}\n",
        "rtr_df_1['label'] = rtr_df_1['fit'].apply(lambda x: labels[x])"
      ],
      "execution_count": 6,
      "outputs": []
    },
    {
      "cell_type": "markdown",
      "metadata": {
        "id": "2cZfDfHYOVI0"
      },
      "source": [
        "### Keep only most relevant features"
      ]
    },
    {
      "cell_type": "code",
      "metadata": {
        "id": "lo3o4j3LOUgs"
      },
      "source": [
        "rtr_df_1 = rtr_df_1.drop(columns=['user_id','bust size','item_id','weight','rating','rented for','body type','height','age','review_date'])"
      ],
      "execution_count": 7,
      "outputs": []
    },
    {
      "cell_type": "code",
      "metadata": {
        "id": "uCsZXR2uz-4H"
      },
      "source": [
        "rtr_df_1_trn, rtr_df_1_test = train_test_split(rtr_df_1, stratify = rtr_df_1['fit'], test_size = 0.2, random_state = 12)\n",
        "rtr_df_1_trn, rtr_df_1_val = train_test_split(rtr_df_1_trn, stratify = rtr_df_1_trn['fit'], test_size = 0.2, random_state = 11)"
      ],
      "execution_count": 8,
      "outputs": []
    },
    {
      "cell_type": "code",
      "metadata": {
        "colab": {
          "base_uri": "https://localhost:8080/",
          "height": 17
        },
        "id": "ob57d2-70T63",
        "outputId": "19d90ded-b48f-49d5-f9a7-75f8c527eff7"
      },
      "source": [
        "# Language model data\n",
        "data_lm = TextLMDataBunch.from_df(train_df=rtr_df_1_trn, valid_df=rtr_df_1_val, test_df=rtr_df_1_test, path=\".\", text_cols=[\"review_text\",\"review_summary\"], label_cols=[\"label\"])\n",
        "\n",
        "# Classifier model data\n",
        "data_clas = TextClasDataBunch.from_df(path = \".\", train_df = rtr_df_1_trn, valid_df = rtr_df_1_val, test_df=rtr_df_1_test, vocab=data_lm.train_ds.vocab, bs=32, text_cols=[\"review_text\",\"review_summary\"], label_cols=[\"label\"])"
      ],
      "execution_count": 13,
      "outputs": [
        {
          "output_type": "display_data",
          "data": {
            "text/html": [
              ""
            ],
            "text/plain": [
              "<IPython.core.display.HTML object>"
            ]
          },
          "metadata": {
            "tags": []
          }
        },
        {
          "output_type": "display_data",
          "data": {
            "text/html": [
              ""
            ],
            "text/plain": [
              "<IPython.core.display.HTML object>"
            ]
          },
          "metadata": {
            "tags": []
          }
        },
        {
          "output_type": "display_data",
          "data": {
            "text/html": [
              ""
            ],
            "text/plain": [
              "<IPython.core.display.HTML object>"
            ]
          },
          "metadata": {
            "tags": []
          }
        },
        {
          "output_type": "display_data",
          "data": {
            "text/html": [
              ""
            ],
            "text/plain": [
              "<IPython.core.display.HTML object>"
            ]
          },
          "metadata": {
            "tags": []
          }
        },
        {
          "output_type": "display_data",
          "data": {
            "text/html": [
              ""
            ],
            "text/plain": [
              "<IPython.core.display.HTML object>"
            ]
          },
          "metadata": {
            "tags": []
          }
        },
        {
          "output_type": "display_data",
          "data": {
            "text/html": [
              ""
            ],
            "text/plain": [
              "<IPython.core.display.HTML object>"
            ]
          },
          "metadata": {
            "tags": []
          }
        }
      ]
    },
    {
      "cell_type": "markdown",
      "metadata": {
        "id": "kdeTeAv7wtSj"
      },
      "source": [
        "## Language Model"
      ]
    },
    {
      "cell_type": "code",
      "metadata": {
        "id": "JKcIN0MJ0h1t"
      },
      "source": [
        "learn = language_model_learner(data_lm, AWD_LSTM, drop_mult=0.3,pretrained=True, metrics=[accuracy])"
      ],
      "execution_count": 10,
      "outputs": []
    },
    {
      "cell_type": "code",
      "metadata": {
        "id": "ozdOIQZl6ige"
      },
      "source": [
        "learn.fit_one_cycle(1, 1.45e-2)"
      ],
      "execution_count": null,
      "outputs": []
    },
    {
      "cell_type": "code",
      "metadata": {
        "colab": {
          "base_uri": "https://localhost:8080/",
          "height": 356
        },
        "id": "OdzgmTbuwviq",
        "outputId": "ec6de7e5-3c44-436f-e34b-6be6141d4027"
      },
      "source": [
        "learn.unfreeze()\n",
        "learn.fit_one_cycle(10, 1e-3)"
      ],
      "execution_count": 41,
      "outputs": [
        {
          "output_type": "display_data",
          "data": {
            "text/html": [
              "<table border=\"1\" class=\"dataframe\">\n",
              "  <thead>\n",
              "    <tr style=\"text-align: left;\">\n",
              "      <th>epoch</th>\n",
              "      <th>train_loss</th>\n",
              "      <th>valid_loss</th>\n",
              "      <th>accuracy</th>\n",
              "      <th>time</th>\n",
              "    </tr>\n",
              "  </thead>\n",
              "  <tbody>\n",
              "    <tr>\n",
              "      <td>0</td>\n",
              "      <td>3.907842</td>\n",
              "      <td>3.893356</td>\n",
              "      <td>0.281477</td>\n",
              "      <td>05:56</td>\n",
              "    </tr>\n",
              "    <tr>\n",
              "      <td>1</td>\n",
              "      <td>3.814726</td>\n",
              "      <td>3.776103</td>\n",
              "      <td>0.293238</td>\n",
              "      <td>05:56</td>\n",
              "    </tr>\n",
              "    <tr>\n",
              "      <td>2</td>\n",
              "      <td>3.711000</td>\n",
              "      <td>3.706917</td>\n",
              "      <td>0.299819</td>\n",
              "      <td>05:56</td>\n",
              "    </tr>\n",
              "    <tr>\n",
              "      <td>3</td>\n",
              "      <td>3.630761</td>\n",
              "      <td>3.670982</td>\n",
              "      <td>0.303275</td>\n",
              "      <td>05:57</td>\n",
              "    </tr>\n",
              "    <tr>\n",
              "      <td>4</td>\n",
              "      <td>3.520856</td>\n",
              "      <td>3.651979</td>\n",
              "      <td>0.305562</td>\n",
              "      <td>05:56</td>\n",
              "    </tr>\n",
              "    <tr>\n",
              "      <td>5</td>\n",
              "      <td>3.433097</td>\n",
              "      <td>3.651414</td>\n",
              "      <td>0.306217</td>\n",
              "      <td>05:56</td>\n",
              "    </tr>\n",
              "    <tr>\n",
              "      <td>6</td>\n",
              "      <td>3.346932</td>\n",
              "      <td>3.664851</td>\n",
              "      <td>0.305406</td>\n",
              "      <td>05:56</td>\n",
              "    </tr>\n",
              "    <tr>\n",
              "      <td>7</td>\n",
              "      <td>3.240492</td>\n",
              "      <td>3.682674</td>\n",
              "      <td>0.304216</td>\n",
              "      <td>05:57</td>\n",
              "    </tr>\n",
              "    <tr>\n",
              "      <td>8</td>\n",
              "      <td>3.183269</td>\n",
              "      <td>3.702075</td>\n",
              "      <td>0.303103</td>\n",
              "      <td>05:57</td>\n",
              "    </tr>\n",
              "    <tr>\n",
              "      <td>9</td>\n",
              "      <td>3.138128</td>\n",
              "      <td>3.711712</td>\n",
              "      <td>0.302361</td>\n",
              "      <td>05:56</td>\n",
              "    </tr>\n",
              "  </tbody>\n",
              "</table>"
            ],
            "text/plain": [
              "<IPython.core.display.HTML object>"
            ]
          },
          "metadata": {
            "tags": []
          }
        }
      ]
    },
    {
      "cell_type": "code",
      "metadata": {
        "id": "-Diz_xBT8CdL"
      },
      "source": [
        "learn.save_encoder('finetuned')"
      ],
      "execution_count": 42,
      "outputs": []
    },
    {
      "cell_type": "markdown",
      "metadata": {
        "id": "fz6aegX3wlHo"
      },
      "source": [
        "## Classifier"
      ]
    },
    {
      "cell_type": "code",
      "metadata": {
        "id": "zy8jyVbB9HTb",
        "colab": {
          "base_uri": "https://localhost:8080/"
        },
        "outputId": "3f1e8d5b-8c20-4365-a2e7-ce3335f3f3a1"
      },
      "source": [
        "learn = text_classifier_learner(data_clas, AWD_LSTM, drop_mult=0.7, metrics=[accuracy])\n",
        "learn.load_encoder('finetuned')"
      ],
      "execution_count": 14,
      "outputs": [
        {
          "output_type": "execute_result",
          "data": {
            "text/plain": [
              "RNNLearner(data=TextClasDataBunch;\n",
              "\n",
              "Train: LabelList (123228 items)\n",
              "x: TextList\n",
              "xxbos i rented pleasantly surprised see fit xxmaj best taller person hips though pockets add volume convenient xxmaj the dress was romantic and comfortable , understated but special . xxmaj great for work .,xxbos i loved dress got tons compliments i wore size regular touch short side i dresses usually long i wear low heal dress xxmaj the hem front little weird i ended pinning lining longer rest dress xxmaj but overall dress great xxmaj comfortable and flattering for a xxup nye wedding !,xxbos xxmaj very short front must wear high waisted skirt shorts xxmaj pulling option since v low xxmaj pretty color / style for a dinner date,xxbos xxmaj my first choice event big last minute xxup rtr saved day sent replacement xxmaj unfortunately bunched much waist bit tight hips personal comfort xxmaj overall bad fit fabric looked felt cheap doubt dress look cute festive right body mine certainly xxmaj thanks xxup rtr great customer service xxmaj poor xxmaj fit - xxmaj sent it xxmaj back,xxbos xxmaj very much liked dress i ended different dress occasion however dress nice great quality xxmaj the fit true size i decided different dress due event i going color deciding factor however i another event i would consider renting sure xxmaj classy and chic !\n",
              "y: CategoryList\n",
              "2,1,1,0,1\n",
              "Path: .;\n",
              "\n",
              "Valid: LabelList (30807 items)\n",
              "x: TextList\n",
              "xxbos xxmaj liked dress lot xxmaj comfy spice lace front i however feel like i swimming fabric bit xxmaj it flattering cute though perfect vacation mid temperature casual day event xxmaj great dress , tons of compliments,xxbos i wore upscale outdoor wedding xxmaj so many complements also rented matching jewelry made look xxmaj nice combo of daytime with a little formality .,xxbos i wide hips dress makes look little wider i would like xxmaj regardless top flattering i felt confident wearing xxmaj this would perfect spring summer wedding xxmaj gorgeous spring dress , the top is so flattering .,xxbos i issue fit xxmaj was warned hips could little tight i problems xxmaj very comfy still looked beautiful i wore dress without bra issues xxmaj looked great and was still comfortable !,xxbos xxmaj this dress worked perfect i wore heels i felt length right xxmaj the dress form fitted i felt i plenty extra room xxmaj the material thick durable silky slip xxmaj the red really rich color xxmaj such classy dress i wore this dress to a formal xxmaj military xxmaj ball .\n",
              "y: CategoryList\n",
              "1,1,1,1,1\n",
              "Path: .;\n",
              "\n",
              "Test: LabelList (38509 items)\n",
              "x: TextList\n",
              "xxbos i really liked dress xxmaj first i got i little bit worried look white top part looks like beige someone said review xxmaj my wedding outdoor bright sunshine dress looked white ivory pictures though i usually wear i even zip xxmaj in waist tight bend xxmaj but still i think would big i liked girls look belt i bought one amazon i think waist line straight xxmaj overall satisfied nice dress !,xxbos i long torso fit perfect xxmaj this dress is gorgeous and i received so many compliments !,xxbos i felt great dress color gorgeous xxmaj form fitting difficult move xxmaj it simple elegant color added enough interest feel unique stand much someone else wedding i would definitely rent dress xxmaj so many compliments !,xxbos xxmaj this jumpsuit super fun great color i wore rehearsal dinner xxmaj santa xxmaj monica perfect i pretty short heels pants still came ankles i think made look little wider i xxmaj also materials pretty thin i felt i needed suck stomach little show everything xxmaj otherwise great piece wear party xxmaj great color !,xxbos i called xxup rtr panic original dress back dress fit xxmaj the stylist helpful found dress replacement i slightly concerned dress would fit tight hip area also concerned bust i xxup ddd i pleasantly surprised fit perfect xxmaj it right amount sexy classy xxmaj the sequins near arm areas little irritating towards end night small price pay i wore spanx definitely necessary xxmaj such a glamorous dress . xxmaj felt sexy , but classy all night .\n",
              "y: EmptyLabelList\n",
              ",,,,\n",
              "Path: ., model=SequentialRNN(\n",
              "  (0): MultiBatchEncoder(\n",
              "    (module): AWD_LSTM(\n",
              "      (encoder): Embedding(15256, 400, padding_idx=1)\n",
              "      (encoder_dp): EmbeddingDropout(\n",
              "        (emb): Embedding(15256, 400, padding_idx=1)\n",
              "      )\n",
              "      (rnns): ModuleList(\n",
              "        (0): WeightDropout(\n",
              "          (module): LSTM(400, 1152, batch_first=True)\n",
              "        )\n",
              "        (1): WeightDropout(\n",
              "          (module): LSTM(1152, 1152, batch_first=True)\n",
              "        )\n",
              "        (2): WeightDropout(\n",
              "          (module): LSTM(1152, 400, batch_first=True)\n",
              "        )\n",
              "      )\n",
              "      (input_dp): RNNDropout()\n",
              "      (hidden_dps): ModuleList(\n",
              "        (0): RNNDropout()\n",
              "        (1): RNNDropout()\n",
              "        (2): RNNDropout()\n",
              "      )\n",
              "    )\n",
              "  )\n",
              "  (1): PoolingLinearClassifier(\n",
              "    (layers): Sequential(\n",
              "      (0): BatchNorm1d(1200, eps=1e-05, momentum=0.1, affine=True, track_running_stats=True)\n",
              "      (1): Dropout(p=0.27999999999999997, inplace=False)\n",
              "      (2): Linear(in_features=1200, out_features=50, bias=True)\n",
              "      (3): ReLU(inplace=True)\n",
              "      (4): BatchNorm1d(50, eps=1e-05, momentum=0.1, affine=True, track_running_stats=True)\n",
              "      (5): Dropout(p=0.1, inplace=False)\n",
              "      (6): Linear(in_features=50, out_features=3, bias=True)\n",
              "    )\n",
              "  )\n",
              "), opt_func=functools.partial(<class 'torch.optim.adam.Adam'>, betas=(0.9, 0.99)), loss_func=FlattenedLoss of CrossEntropyLoss(), metrics=[<function accuracy at 0x7f7bbdaf4950>], true_wd=True, bn_wd=True, wd=0.01, train_bn=True, path=PosixPath('.'), model_dir='models', callback_fns=[functools.partial(<class 'fastai.basic_train.Recorder'>, add_time=True, silent=False)], callbacks=[RNNTrainer\n",
              "learn: RNNLearner(data=TextClasDataBunch;\n",
              "\n",
              "Train: LabelList (123228 items)\n",
              "x: TextList\n",
              "xxbos i rented pleasantly surprised see fit xxmaj best taller person hips though pockets add volume convenient xxmaj the dress was romantic and comfortable , understated but special . xxmaj great for work .,xxbos i loved dress got tons compliments i wore size regular touch short side i dresses usually long i wear low heal dress xxmaj the hem front little weird i ended pinning lining longer rest dress xxmaj but overall dress great xxmaj comfortable and flattering for a xxup nye wedding !,xxbos xxmaj very short front must wear high waisted skirt shorts xxmaj pulling option since v low xxmaj pretty color / style for a dinner date,xxbos xxmaj my first choice event big last minute xxup rtr saved day sent replacement xxmaj unfortunately bunched much waist bit tight hips personal comfort xxmaj overall bad fit fabric looked felt cheap doubt dress look cute festive right body mine certainly xxmaj thanks xxup rtr great customer service xxmaj poor xxmaj fit - xxmaj sent it xxmaj back,xxbos xxmaj very much liked dress i ended different dress occasion however dress nice great quality xxmaj the fit true size i decided different dress due event i going color deciding factor however i another event i would consider renting sure xxmaj classy and chic !\n",
              "y: CategoryList\n",
              "2,1,1,0,1\n",
              "Path: .;\n",
              "\n",
              "Valid: LabelList (30807 items)\n",
              "x: TextList\n",
              "xxbos xxmaj liked dress lot xxmaj comfy spice lace front i however feel like i swimming fabric bit xxmaj it flattering cute though perfect vacation mid temperature casual day event xxmaj great dress , tons of compliments,xxbos i wore upscale outdoor wedding xxmaj so many complements also rented matching jewelry made look xxmaj nice combo of daytime with a little formality .,xxbos i wide hips dress makes look little wider i would like xxmaj regardless top flattering i felt confident wearing xxmaj this would perfect spring summer wedding xxmaj gorgeous spring dress , the top is so flattering .,xxbos i issue fit xxmaj was warned hips could little tight i problems xxmaj very comfy still looked beautiful i wore dress without bra issues xxmaj looked great and was still comfortable !,xxbos xxmaj this dress worked perfect i wore heels i felt length right xxmaj the dress form fitted i felt i plenty extra room xxmaj the material thick durable silky slip xxmaj the red really rich color xxmaj such classy dress i wore this dress to a formal xxmaj military xxmaj ball .\n",
              "y: CategoryList\n",
              "1,1,1,1,1\n",
              "Path: .;\n",
              "\n",
              "Test: LabelList (38509 items)\n",
              "x: TextList\n",
              "xxbos i really liked dress xxmaj first i got i little bit worried look white top part looks like beige someone said review xxmaj my wedding outdoor bright sunshine dress looked white ivory pictures though i usually wear i even zip xxmaj in waist tight bend xxmaj but still i think would big i liked girls look belt i bought one amazon i think waist line straight xxmaj overall satisfied nice dress !,xxbos i long torso fit perfect xxmaj this dress is gorgeous and i received so many compliments !,xxbos i felt great dress color gorgeous xxmaj form fitting difficult move xxmaj it simple elegant color added enough interest feel unique stand much someone else wedding i would definitely rent dress xxmaj so many compliments !,xxbos xxmaj this jumpsuit super fun great color i wore rehearsal dinner xxmaj santa xxmaj monica perfect i pretty short heels pants still came ankles i think made look little wider i xxmaj also materials pretty thin i felt i needed suck stomach little show everything xxmaj otherwise great piece wear party xxmaj great color !,xxbos i called xxup rtr panic original dress back dress fit xxmaj the stylist helpful found dress replacement i slightly concerned dress would fit tight hip area also concerned bust i xxup ddd i pleasantly surprised fit perfect xxmaj it right amount sexy classy xxmaj the sequins near arm areas little irritating towards end night small price pay i wore spanx definitely necessary xxmaj such a glamorous dress . xxmaj felt sexy , but classy all night .\n",
              "y: EmptyLabelList\n",
              ",,,,\n",
              "Path: ., model=SequentialRNN(\n",
              "  (0): MultiBatchEncoder(\n",
              "    (module): AWD_LSTM(\n",
              "      (encoder): Embedding(15256, 400, padding_idx=1)\n",
              "      (encoder_dp): EmbeddingDropout(\n",
              "        (emb): Embedding(15256, 400, padding_idx=1)\n",
              "      )\n",
              "      (rnns): ModuleList(\n",
              "        (0): WeightDropout(\n",
              "          (module): LSTM(400, 1152, batch_first=True)\n",
              "        )\n",
              "        (1): WeightDropout(\n",
              "          (module): LSTM(1152, 1152, batch_first=True)\n",
              "        )\n",
              "        (2): WeightDropout(\n",
              "          (module): LSTM(1152, 400, batch_first=True)\n",
              "        )\n",
              "      )\n",
              "      (input_dp): RNNDropout()\n",
              "      (hidden_dps): ModuleList(\n",
              "        (0): RNNDropout()\n",
              "        (1): RNNDropout()\n",
              "        (2): RNNDropout()\n",
              "      )\n",
              "    )\n",
              "  )\n",
              "  (1): PoolingLinearClassifier(\n",
              "    (layers): Sequential(\n",
              "      (0): BatchNorm1d(1200, eps=1e-05, momentum=0.1, affine=True, track_running_stats=True)\n",
              "      (1): Dropout(p=0.27999999999999997, inplace=False)\n",
              "      (2): Linear(in_features=1200, out_features=50, bias=True)\n",
              "      (3): ReLU(inplace=True)\n",
              "      (4): BatchNorm1d(50, eps=1e-05, momentum=0.1, affine=True, track_running_stats=True)\n",
              "      (5): Dropout(p=0.1, inplace=False)\n",
              "      (6): Linear(in_features=50, out_features=3, bias=True)\n",
              "    )\n",
              "  )\n",
              "), opt_func=functools.partial(<class 'torch.optim.adam.Adam'>, betas=(0.9, 0.99)), loss_func=FlattenedLoss of CrossEntropyLoss(), metrics=[<function accuracy at 0x7f7bbdaf4950>], true_wd=True, bn_wd=True, wd=0.01, train_bn=True, path=PosixPath('.'), model_dir='models', callback_fns=[functools.partial(<class 'fastai.basic_train.Recorder'>, add_time=True, silent=False)], callbacks=[...], layer_groups=[Sequential(\n",
              "  (0): Embedding(15256, 400, padding_idx=1)\n",
              "  (1): EmbeddingDropout(\n",
              "    (emb): Embedding(15256, 400, padding_idx=1)\n",
              "  )\n",
              "), Sequential(\n",
              "  (0): WeightDropout(\n",
              "    (module): LSTM(400, 1152, batch_first=True)\n",
              "  )\n",
              "  (1): RNNDropout()\n",
              "), Sequential(\n",
              "  (0): WeightDropout(\n",
              "    (module): LSTM(1152, 1152, batch_first=True)\n",
              "  )\n",
              "  (1): RNNDropout()\n",
              "), Sequential(\n",
              "  (0): WeightDropout(\n",
              "    (module): LSTM(1152, 400, batch_first=True)\n",
              "  )\n",
              "  (1): RNNDropout()\n",
              "), Sequential(\n",
              "  (0): PoolingLinearClassifier(\n",
              "    (layers): Sequential(\n",
              "      (0): BatchNorm1d(1200, eps=1e-05, momentum=0.1, affine=True, track_running_stats=True)\n",
              "      (1): Dropout(p=0.27999999999999997, inplace=False)\n",
              "      (2): Linear(in_features=1200, out_features=50, bias=True)\n",
              "      (3): ReLU(inplace=True)\n",
              "      (4): BatchNorm1d(50, eps=1e-05, momentum=0.1, affine=True, track_running_stats=True)\n",
              "      (5): Dropout(p=0.1, inplace=False)\n",
              "      (6): Linear(in_features=50, out_features=3, bias=True)\n",
              "    )\n",
              "  )\n",
              ")], add_time=True, silent=False)\n",
              "alpha: 2.0\n",
              "beta: 1.0], layer_groups=[Sequential(\n",
              "  (0): Embedding(15256, 400, padding_idx=1)\n",
              "  (1): EmbeddingDropout(\n",
              "    (emb): Embedding(15256, 400, padding_idx=1)\n",
              "  )\n",
              "), Sequential(\n",
              "  (0): WeightDropout(\n",
              "    (module): LSTM(400, 1152, batch_first=True)\n",
              "  )\n",
              "  (1): RNNDropout()\n",
              "), Sequential(\n",
              "  (0): WeightDropout(\n",
              "    (module): LSTM(1152, 1152, batch_first=True)\n",
              "  )\n",
              "  (1): RNNDropout()\n",
              "), Sequential(\n",
              "  (0): WeightDropout(\n",
              "    (module): LSTM(1152, 400, batch_first=True)\n",
              "  )\n",
              "  (1): RNNDropout()\n",
              "), Sequential(\n",
              "  (0): PoolingLinearClassifier(\n",
              "    (layers): Sequential(\n",
              "      (0): BatchNorm1d(1200, eps=1e-05, momentum=0.1, affine=True, track_running_stats=True)\n",
              "      (1): Dropout(p=0.27999999999999997, inplace=False)\n",
              "      (2): Linear(in_features=1200, out_features=50, bias=True)\n",
              "      (3): ReLU(inplace=True)\n",
              "      (4): BatchNorm1d(50, eps=1e-05, momentum=0.1, affine=True, track_running_stats=True)\n",
              "      (5): Dropout(p=0.1, inplace=False)\n",
              "      (6): Linear(in_features=50, out_features=3, bias=True)\n",
              "    )\n",
              "  )\n",
              ")], add_time=True, silent=False)"
            ]
          },
          "metadata": {
            "tags": []
          },
          "execution_count": 14
        }
      ]
    },
    {
      "cell_type": "code",
      "metadata": {
        "colab": {
          "base_uri": "https://localhost:8080/",
          "height": 80
        },
        "id": "BcO3LVdE9JSQ",
        "outputId": "45cc7390-f1e8-4ab5-fa95-56d9d9f1a111"
      },
      "source": [
        "learn.fit_one_cycle(1, 1e-2)"
      ],
      "execution_count": 15,
      "outputs": [
        {
          "output_type": "display_data",
          "data": {
            "text/html": [
              "<table border=\"1\" class=\"dataframe\">\n",
              "  <thead>\n",
              "    <tr style=\"text-align: left;\">\n",
              "      <th>epoch</th>\n",
              "      <th>train_loss</th>\n",
              "      <th>valid_loss</th>\n",
              "      <th>accuracy</th>\n",
              "      <th>time</th>\n",
              "    </tr>\n",
              "  </thead>\n",
              "  <tbody>\n",
              "    <tr>\n",
              "      <td>0</td>\n",
              "      <td>0.658127</td>\n",
              "      <td>0.579381</td>\n",
              "      <td>0.781348</td>\n",
              "      <td>02:29</td>\n",
              "    </tr>\n",
              "  </tbody>\n",
              "</table>"
            ],
            "text/plain": [
              "<IPython.core.display.HTML object>"
            ]
          },
          "metadata": {
            "tags": []
          }
        }
      ]
    },
    {
      "cell_type": "code",
      "metadata": {
        "id": "oRHj4Yfl9n1k",
        "colab": {
          "base_uri": "https://localhost:8080/",
          "height": 80
        },
        "outputId": "42f3c710-f8c8-4558-dcde-6e423b09820c"
      },
      "source": [
        "learn.freeze_to(-2)\n",
        "learn.fit_one_cycle(1, slice(1e-2/(2.6**4),1e-2))"
      ],
      "execution_count": 16,
      "outputs": [
        {
          "output_type": "display_data",
          "data": {
            "text/html": [
              "<table border=\"1\" class=\"dataframe\">\n",
              "  <thead>\n",
              "    <tr style=\"text-align: left;\">\n",
              "      <th>epoch</th>\n",
              "      <th>train_loss</th>\n",
              "      <th>valid_loss</th>\n",
              "      <th>accuracy</th>\n",
              "      <th>time</th>\n",
              "    </tr>\n",
              "  </thead>\n",
              "  <tbody>\n",
              "    <tr>\n",
              "      <td>0</td>\n",
              "      <td>0.517696</td>\n",
              "      <td>0.454409</td>\n",
              "      <td>0.833869</td>\n",
              "      <td>03:08</td>\n",
              "    </tr>\n",
              "  </tbody>\n",
              "</table>"
            ],
            "text/plain": [
              "<IPython.core.display.HTML object>"
            ]
          },
          "metadata": {
            "tags": []
          }
        }
      ]
    },
    {
      "cell_type": "code",
      "metadata": {
        "colab": {
          "base_uri": "https://localhost:8080/",
          "height": 80
        },
        "id": "d3QkABNDyo2H",
        "outputId": "beb2f69f-85db-4fb7-a49e-4fb7b8fa11ff"
      },
      "source": [
        "learn.freeze_to(-3)\n",
        "learn.fit_one_cycle(1, slice(5e-3/(2.6**4),5e-3))"
      ],
      "execution_count": 17,
      "outputs": [
        {
          "output_type": "display_data",
          "data": {
            "text/html": [
              "<table border=\"1\" class=\"dataframe\">\n",
              "  <thead>\n",
              "    <tr style=\"text-align: left;\">\n",
              "      <th>epoch</th>\n",
              "      <th>train_loss</th>\n",
              "      <th>valid_loss</th>\n",
              "      <th>accuracy</th>\n",
              "      <th>time</th>\n",
              "    </tr>\n",
              "  </thead>\n",
              "  <tbody>\n",
              "    <tr>\n",
              "      <td>0</td>\n",
              "      <td>0.486628</td>\n",
              "      <td>0.443537</td>\n",
              "      <td>0.840199</td>\n",
              "      <td>04:46</td>\n",
              "    </tr>\n",
              "  </tbody>\n",
              "</table>"
            ],
            "text/plain": [
              "<IPython.core.display.HTML object>"
            ]
          },
          "metadata": {
            "tags": []
          }
        }
      ]
    },
    {
      "cell_type": "code",
      "metadata": {
        "colab": {
          "base_uri": "https://localhost:8080/",
          "height": 326
        },
        "id": "qC9dnxR-yt3f",
        "outputId": "b1488e97-c705-485e-ae08-f80210bb6a63"
      },
      "source": [
        "learn.unfreeze()\n",
        "learn.fit_one_cycle(12, slice(1e-3/(2.6**4),1e-3))"
      ],
      "execution_count": 18,
      "outputs": [
        {
          "output_type": "display_data",
          "data": {
            "text/html": [
              "\n",
              "    <div>\n",
              "        <style>\n",
              "            /* Turns off some styling */\n",
              "            progress {\n",
              "                /* gets rid of default border in Firefox and Opera. */\n",
              "                border: none;\n",
              "                /* Needs to be in here for Safari polyfill so background images work as expected. */\n",
              "                background-size: auto;\n",
              "            }\n",
              "            .progress-bar-interrupted, .progress-bar-interrupted::-webkit-progress-bar {\n",
              "                background: #F44336;\n",
              "            }\n",
              "        </style>\n",
              "      <progress value='7' class='' max='12' style='width:300px; height:20px; vertical-align: middle;'></progress>\n",
              "      58.33% [7/12 45:28<32:29]\n",
              "    </div>\n",
              "    \n",
              "<table border=\"1\" class=\"dataframe\">\n",
              "  <thead>\n",
              "    <tr style=\"text-align: left;\">\n",
              "      <th>epoch</th>\n",
              "      <th>train_loss</th>\n",
              "      <th>valid_loss</th>\n",
              "      <th>accuracy</th>\n",
              "      <th>time</th>\n",
              "    </tr>\n",
              "  </thead>\n",
              "  <tbody>\n",
              "    <tr>\n",
              "      <td>0</td>\n",
              "      <td>0.461388</td>\n",
              "      <td>0.441694</td>\n",
              "      <td>0.841400</td>\n",
              "      <td>06:26</td>\n",
              "    </tr>\n",
              "    <tr>\n",
              "      <td>1</td>\n",
              "      <td>0.466172</td>\n",
              "      <td>0.439644</td>\n",
              "      <td>0.841659</td>\n",
              "      <td>06:32</td>\n",
              "    </tr>\n",
              "    <tr>\n",
              "      <td>2</td>\n",
              "      <td>0.467331</td>\n",
              "      <td>0.506581</td>\n",
              "      <td>0.841887</td>\n",
              "      <td>06:30</td>\n",
              "    </tr>\n",
              "    <tr>\n",
              "      <td>3</td>\n",
              "      <td>0.429711</td>\n",
              "      <td>0.437919</td>\n",
              "      <td>0.843704</td>\n",
              "      <td>07:00</td>\n",
              "    </tr>\n",
              "    <tr>\n",
              "      <td>4</td>\n",
              "      <td>0.457737</td>\n",
              "      <td>0.434511</td>\n",
              "      <td>0.844808</td>\n",
              "      <td>06:02</td>\n",
              "    </tr>\n",
              "    <tr>\n",
              "      <td>5</td>\n",
              "      <td>0.443490</td>\n",
              "      <td>0.436334</td>\n",
              "      <td>0.843607</td>\n",
              "      <td>06:24</td>\n",
              "    </tr>\n",
              "    <tr>\n",
              "      <td>6</td>\n",
              "      <td>0.398444</td>\n",
              "      <td>0.437674</td>\n",
              "      <td>0.844970</td>\n",
              "      <td>06:31</td>\n",
              "    </tr>\n",
              "  </tbody>\n",
              "</table><p>\n",
              "\n",
              "    <div>\n",
              "        <style>\n",
              "            /* Turns off some styling */\n",
              "            progress {\n",
              "                /* gets rid of default border in Firefox and Opera. */\n",
              "                border: none;\n",
              "                /* Needs to be in here for Safari polyfill so background images work as expected. */\n",
              "                background-size: auto;\n",
              "            }\n",
              "            .progress-bar-interrupted, .progress-bar-interrupted::-webkit-progress-bar {\n",
              "                background: #F44336;\n",
              "            }\n",
              "        </style>\n",
              "      <progress value='664' class='' max='3850' style='width:300px; height:20px; vertical-align: middle;'></progress>\n",
              "      17.25% [664/3850 01:01<04:54 0.4053]\n",
              "    </div>\n",
              "    "
            ],
            "text/plain": [
              "<IPython.core.display.HTML object>"
            ]
          },
          "metadata": {
            "tags": []
          }
        },
        {
          "output_type": "stream",
          "text": [
            "Buffered data was truncated after reaching the output size limit."
          ],
          "name": "stdout"
        }
      ]
    },
    {
      "cell_type": "code",
      "metadata": {
        "id": "kYulxAkk4Hso"
      },
      "source": [
        "learn.save('classifier')"
      ],
      "execution_count": 19,
      "outputs": []
    },
    {
      "cell_type": "code",
      "metadata": {
        "id": "b7s9YO6tyDGk"
      },
      "source": [
        "#learn.data.add_test(rtr_df_1_test.drop(columns='label'),label=rtr_df_1_test['label'])"
      ],
      "execution_count": null,
      "outputs": []
    },
    {
      "cell_type": "code",
      "metadata": {
        "id": "DJOYikn9vZc1"
      },
      "source": [
        "preds, y, losses = learn.get_preds(ds_type=DatasetType.Test ,with_loss=True)\n",
        "#interp = ClassificationInterpretation(learn, preds, rtr_df_1_test['label'], losses)\n",
        "#interp.plot_confusion_matrix()"
      ],
      "execution_count": null,
      "outputs": []
    },
    {
      "cell_type": "code",
      "metadata": {
        "colab": {
          "base_uri": "https://localhost:8080/"
        },
        "id": "kGmMRv_zQqac",
        "outputId": "7fc35fcb-f781-451f-8bc2-1c0cfae66b0b"
      },
      "source": [
        "y_pred"
      ],
      "execution_count": 43,
      "outputs": [
        {
          "output_type": "execute_result",
          "data": {
            "text/plain": [
              "tensor(1.0000)"
            ]
          },
          "metadata": {
            "tags": []
          },
          "execution_count": 43
        }
      ]
    },
    {
      "cell_type": "code",
      "metadata": {
        "colab": {
          "base_uri": "https://localhost:8080/"
        },
        "id": "z0WyzSjpOMmx",
        "outputId": "765eb2f6-ffed-44ad-ecee-d01832697ba8"
      },
      "source": [
        "from sklearn.metrics import confusion_matrix\n",
        "y_pred = np.argmax(preds.numpy(),axis=1)\n",
        "\n",
        "confusion_matrix(rtr_df_1_test['label'], y_pred)"
      ],
      "execution_count": 46,
      "outputs": [
        {
          "output_type": "execute_result",
          "data": {
            "text/plain": [
              "array([[ 2842,  2199,   115],\n",
              "       [  820, 26937,   655],\n",
              "       [  127,  2155,  2659]])"
            ]
          },
          "metadata": {
            "tags": []
          },
          "execution_count": 46
        }
      ]
    },
    {
      "cell_type": "code",
      "metadata": {
        "colab": {
          "base_uri": "https://localhost:8080/"
        },
        "id": "lc833hMIR5_k",
        "outputId": "e978df7a-cc3f-4694-dea9-79aba21f7381"
      },
      "source": [
        "y_pred.shape"
      ],
      "execution_count": 47,
      "outputs": [
        {
          "output_type": "execute_result",
          "data": {
            "text/plain": [
              "(38509,)"
            ]
          },
          "metadata": {
            "tags": []
          },
          "execution_count": 47
        }
      ]
    },
    {
      "cell_type": "code",
      "metadata": {
        "colab": {
          "base_uri": "https://localhost:8080/"
        },
        "id": "tJh6ArC1R8Lj",
        "outputId": "d4745c73-e93c-49a6-d788-d633b6861730"
      },
      "source": [
        "rtr_df_1_test.shape"
      ],
      "execution_count": 48,
      "outputs": [
        {
          "output_type": "execute_result",
          "data": {
            "text/plain": [
              "(38509, 6)"
            ]
          },
          "metadata": {
            "tags": []
          },
          "execution_count": 48
        }
      ]
    },
    {
      "cell_type": "code",
      "metadata": {
        "id": "6MKBEJazR-Kl"
      },
      "source": [
        ""
      ],
      "execution_count": null,
      "outputs": []
    }
  ]
}