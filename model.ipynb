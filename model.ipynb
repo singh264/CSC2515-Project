{
  "nbformat": 4,
  "nbformat_minor": 0,
  "metadata": {
    "colab": {
      "name": "CSC2515_part2.ipynb",
      "provenance": [],
      "collapsed_sections": []
    },
    "kernelspec": {
      "name": "python3",
      "display_name": "Python 3"
    },
    "accelerator": "GPU"
  },
  "cells": [
    {
      "cell_type": "code",
      "metadata": {
        "id": "I3SeaOF_yy0l"
      },
      "source": [
        "!pip install torch\n",
        "!pip install fastai==1.0.61"
      ],
      "execution_count": null,
      "outputs": []
    },
    {
      "cell_type": "code",
      "metadata": {
        "id": "DW-Lz_6Jza3h"
      },
      "source": [
        "import fastai\n",
        "from fastai import *\n",
        "from fastai.text import * \n",
        "import pandas as pd\n",
        "import numpy as np\n",
        "from functools import partial\n",
        "import io\n",
        "import os\n",
        "import json\n",
        "import matplotlib.pyplot as plt\n",
        "import numpy as np\n",
        "from pathlib import Path\n",
        "from typing import Dict\n",
        "from textblob import TextBlob\n",
        "import nltk\n",
        "from nltk.corpus import stopwords\n",
        "from sklearn.model_selection import train_test_split"
      ],
      "execution_count": 2,
      "outputs": []
    },
    {
      "cell_type": "code",
      "metadata": {
        "id": "Afh7ouFRzeUI"
      },
      "source": [
        "RENTTHERUNWAY_1_FILE_PATH = Path('./renttherunway_data_1.json')\n",
        "rtr_df_1 = pd.read_json(RENTTHERUNWAY_1_FILE_PATH, lines=True)\n",
        "RENTTHERUNWAY_2_FILE_PATH = Path('./renttherunway_data_2.json')\n",
        "rtr_df_2 = pd.read_json(RENTTHERUNWAY_2_FILE_PATH, lines=True)\n",
        "MOD_CLOTH_FILE_PATH = Path('./modcloth_data.json')\n",
        "#mc_df = pd.read_json(MOD_CLOTH_FILE_PATH, lines=True)\n",
        "\n",
        "rtr_df_1 = pd.concat([rtr_df_1,rtr_df_2],ignore_index=True)\n"
      ],
      "execution_count": 5,
      "outputs": []
    },
    {
      "cell_type": "markdown",
      "metadata": {
        "id": "BOJEwGflz8g6"
      },
      "source": [
        "## Clean Text"
      ]
    },
    {
      "cell_type": "code",
      "metadata": {
        "id": "Qp8JbXVnz3P2"
      },
      "source": [
        "rtr_df_1['review_text'] = rtr_df_1['review_text'].str.replace(\"[^a-zA-Z]\", \" \")\n",
        "nltk.download('stopwords')\n",
        "stop_words = stopwords.words('english')\n",
        "tokenized_doc = rtr_df_1['review_text'].apply(lambda x: x.split())\n",
        "tokenized_doc = tokenized_doc.apply(lambda x: [item for item in x if item not in stop_words])\n",
        "detokenized_doc = [] \n",
        "for i in range(len(rtr_df_1)): \n",
        "    t = ' '.join(tokenized_doc[i]) \n",
        "    detokenized_doc.append(t) \n",
        "\n",
        "rtr_df_1['review_text'] = detokenized_doc"
      ],
      "execution_count": null,
      "outputs": []
    },
    {
      "cell_type": "code",
      "metadata": {
        "id": "DkVtN7eaMsMi"
      },
      "source": [
        "labels = {\"small\":0,\"fit\":1,\"large\":2}\n",
        "rtr_df_1['label'] = rtr_df_1['fit'].apply(lambda x: labels[x])"
      ],
      "execution_count": 7,
      "outputs": []
    },
    {
      "cell_type": "markdown",
      "metadata": {
        "id": "2cZfDfHYOVI0"
      },
      "source": [
        "### Keep only most relevant features"
      ]
    },
    {
      "cell_type": "code",
      "metadata": {
        "id": "lo3o4j3LOUgs"
      },
      "source": [
        "rtr_df_1 = rtr_df_1.drop(columns=['user_id','bust size','item_id','weight','rating','rented for','body type','height','age','review_date'])"
      ],
      "execution_count": 8,
      "outputs": []
    },
    {
      "cell_type": "code",
      "metadata": {
        "id": "uCsZXR2uz-4H"
      },
      "source": [
        "rtr_df_1_trn, rtr_df_1_test = train_test_split(rtr_df_1, stratify = rtr_df_1['fit'], test_size = 0.2, random_state = 12)\n",
        "rtr_df_1_trn, rtr_df_1_val = train_test_split(rtr_df_1_trn, stratify = rtr_df_1_trn['fit'], test_size = 0.2, random_state = 11)"
      ],
      "execution_count": 9,
      "outputs": []
    },
    {
      "cell_type": "code",
      "metadata": {
        "colab": {
          "base_uri": "https://localhost:8080/",
          "height": 17
        },
        "id": "ob57d2-70T63",
        "outputId": "d845d0e6-e67e-4a48-ce59-5ee1d5839d85"
      },
      "source": [
        "# Language model data\n",
        "data_lm = TextLMDataBunch.from_df(train_df=rtr_df_1_trn, valid_df=rtr_df_1_val, test_df=rtr_df_1_test, path=\".\", text_cols=[\"review_text\",\"review_summary\"], label_cols=[\"label\"])\n",
        "\n",
        "# Classifier model data\n",
        "data_clas = TextClasDataBunch.from_df(path = \".\", train_df = rtr_df_1_trn, valid_df = rtr_df_1_val, test_df=rtr_df_1_test, vocab=data_lm.train_ds.vocab, bs=32, text_cols=[\"review_text\",\"review_summary\"], label_cols=[\"label\"])"
      ],
      "execution_count": 10,
      "outputs": [
        {
          "output_type": "display_data",
          "data": {
            "text/html": [
              ""
            ],
            "text/plain": [
              "<IPython.core.display.HTML object>"
            ]
          },
          "metadata": {
            "tags": []
          }
        },
        {
          "output_type": "display_data",
          "data": {
            "text/html": [
              ""
            ],
            "text/plain": [
              "<IPython.core.display.HTML object>"
            ]
          },
          "metadata": {
            "tags": []
          }
        },
        {
          "output_type": "display_data",
          "data": {
            "text/html": [
              ""
            ],
            "text/plain": [
              "<IPython.core.display.HTML object>"
            ]
          },
          "metadata": {
            "tags": []
          }
        },
        {
          "output_type": "display_data",
          "data": {
            "text/html": [
              ""
            ],
            "text/plain": [
              "<IPython.core.display.HTML object>"
            ]
          },
          "metadata": {
            "tags": []
          }
        },
        {
          "output_type": "display_data",
          "data": {
            "text/html": [
              ""
            ],
            "text/plain": [
              "<IPython.core.display.HTML object>"
            ]
          },
          "metadata": {
            "tags": []
          }
        },
        {
          "output_type": "display_data",
          "data": {
            "text/html": [
              ""
            ],
            "text/plain": [
              "<IPython.core.display.HTML object>"
            ]
          },
          "metadata": {
            "tags": []
          }
        }
      ]
    },
    {
      "cell_type": "markdown",
      "metadata": {
        "id": "kdeTeAv7wtSj"
      },
      "source": [
        "## Language Model"
      ]
    },
    {
      "cell_type": "code",
      "metadata": {
        "id": "JKcIN0MJ0h1t",
        "colab": {
          "base_uri": "https://localhost:8080/",
          "height": 34
        },
        "outputId": "400212d2-436d-4ca5-a98f-f0f4e87b9b89"
      },
      "source": [
        "learn = language_model_learner(data_lm, AWD_LSTM, drop_mult=0.3,pretrained=True, metrics=[accuracy])"
      ],
      "execution_count": 11,
      "outputs": [
        {
          "output_type": "stream",
          "text": [
            "Downloading https://s3.amazonaws.com/fast-ai-modelzoo/wt103-fwd.tgz\n"
          ],
          "name": "stdout"
        },
        {
          "output_type": "display_data",
          "data": {
            "text/html": [
              ""
            ],
            "text/plain": [
              "<IPython.core.display.HTML object>"
            ]
          },
          "metadata": {
            "tags": []
          }
        }
      ]
    },
    {
      "cell_type": "code",
      "metadata": {
        "id": "ozdOIQZl6ige",
        "colab": {
          "base_uri": "https://localhost:8080/",
          "height": 80
        },
        "outputId": "a480782d-1521-4734-b128-b88bf70069b4"
      },
      "source": [
        "learn.fit_one_cycle(1, 1.45e-2)"
      ],
      "execution_count": 12,
      "outputs": [
        {
          "output_type": "display_data",
          "data": {
            "text/html": [
              "<table border=\"1\" class=\"dataframe\">\n",
              "  <thead>\n",
              "    <tr style=\"text-align: left;\">\n",
              "      <th>epoch</th>\n",
              "      <th>train_loss</th>\n",
              "      <th>valid_loss</th>\n",
              "      <th>accuracy</th>\n",
              "      <th>time</th>\n",
              "    </tr>\n",
              "  </thead>\n",
              "  <tbody>\n",
              "    <tr>\n",
              "      <td>0</td>\n",
              "      <td>4.190208</td>\n",
              "      <td>4.080743</td>\n",
              "      <td>0.261185</td>\n",
              "      <td>04:33</td>\n",
              "    </tr>\n",
              "  </tbody>\n",
              "</table>"
            ],
            "text/plain": [
              "<IPython.core.display.HTML object>"
            ]
          },
          "metadata": {
            "tags": []
          }
        }
      ]
    },
    {
      "cell_type": "code",
      "metadata": {
        "colab": {
          "base_uri": "https://localhost:8080/",
          "height": 356
        },
        "id": "OdzgmTbuwviq",
        "outputId": "9b1ea967-48d0-4a52-e901-030672409808"
      },
      "source": [
        "learn.unfreeze()\n",
        "learn.fit_one_cycle(10, 1e-3)"
      ],
      "execution_count": 13,
      "outputs": [
        {
          "output_type": "display_data",
          "data": {
            "text/html": [
              "<table border=\"1\" class=\"dataframe\">\n",
              "  <thead>\n",
              "    <tr style=\"text-align: left;\">\n",
              "      <th>epoch</th>\n",
              "      <th>train_loss</th>\n",
              "      <th>valid_loss</th>\n",
              "      <th>accuracy</th>\n",
              "      <th>time</th>\n",
              "    </tr>\n",
              "  </thead>\n",
              "  <tbody>\n",
              "    <tr>\n",
              "      <td>0</td>\n",
              "      <td>3.922355</td>\n",
              "      <td>3.892767</td>\n",
              "      <td>0.281607</td>\n",
              "      <td>05:58</td>\n",
              "    </tr>\n",
              "    <tr>\n",
              "      <td>1</td>\n",
              "      <td>3.791088</td>\n",
              "      <td>3.777313</td>\n",
              "      <td>0.293458</td>\n",
              "      <td>05:58</td>\n",
              "    </tr>\n",
              "    <tr>\n",
              "      <td>2</td>\n",
              "      <td>3.699809</td>\n",
              "      <td>3.709336</td>\n",
              "      <td>0.298465</td>\n",
              "      <td>05:59</td>\n",
              "    </tr>\n",
              "    <tr>\n",
              "      <td>3</td>\n",
              "      <td>3.614547</td>\n",
              "      <td>3.668128</td>\n",
              "      <td>0.303666</td>\n",
              "      <td>05:58</td>\n",
              "    </tr>\n",
              "    <tr>\n",
              "      <td>4</td>\n",
              "      <td>3.521658</td>\n",
              "      <td>3.650615</td>\n",
              "      <td>0.305876</td>\n",
              "      <td>05:59</td>\n",
              "    </tr>\n",
              "    <tr>\n",
              "      <td>5</td>\n",
              "      <td>3.426055</td>\n",
              "      <td>3.650783</td>\n",
              "      <td>0.306454</td>\n",
              "      <td>05:59</td>\n",
              "    </tr>\n",
              "    <tr>\n",
              "      <td>6</td>\n",
              "      <td>3.339106</td>\n",
              "      <td>3.666980</td>\n",
              "      <td>0.305502</td>\n",
              "      <td>05:59</td>\n",
              "    </tr>\n",
              "    <tr>\n",
              "      <td>7</td>\n",
              "      <td>3.253825</td>\n",
              "      <td>3.682922</td>\n",
              "      <td>0.304536</td>\n",
              "      <td>05:58</td>\n",
              "    </tr>\n",
              "    <tr>\n",
              "      <td>8</td>\n",
              "      <td>3.178952</td>\n",
              "      <td>3.703623</td>\n",
              "      <td>0.303086</td>\n",
              "      <td>05:59</td>\n",
              "    </tr>\n",
              "    <tr>\n",
              "      <td>9</td>\n",
              "      <td>3.146857</td>\n",
              "      <td>3.711982</td>\n",
              "      <td>0.302656</td>\n",
              "      <td>05:59</td>\n",
              "    </tr>\n",
              "  </tbody>\n",
              "</table>"
            ],
            "text/plain": [
              "<IPython.core.display.HTML object>"
            ]
          },
          "metadata": {
            "tags": []
          }
        }
      ]
    },
    {
      "cell_type": "code",
      "metadata": {
        "id": "-Diz_xBT8CdL"
      },
      "source": [
        "learn.save_encoder('finetuned')"
      ],
      "execution_count": 14,
      "outputs": []
    },
    {
      "cell_type": "markdown",
      "metadata": {
        "id": "fz6aegX3wlHo"
      },
      "source": [
        "## Classifier"
      ]
    },
    {
      "cell_type": "code",
      "metadata": {
        "id": "zy8jyVbB9HTb"
      },
      "source": [
        "learn = text_classifier_learner(data_clas, AWD_LSTM, drop_mult=0.7, metrics=[accuracy])\n",
        "learn.load_encoder('finetuned')"
      ],
      "execution_count": null,
      "outputs": []
    },
    {
      "cell_type": "code",
      "metadata": {
        "colab": {
          "base_uri": "https://localhost:8080/",
          "height": 80
        },
        "id": "BcO3LVdE9JSQ",
        "outputId": "41acd515-fee4-4649-e7b1-c3af1367589f"
      },
      "source": [
        "learn.fit_one_cycle(1, 1e-2)"
      ],
      "execution_count": 19,
      "outputs": [
        {
          "output_type": "display_data",
          "data": {
            "text/html": [
              "<table border=\"1\" class=\"dataframe\">\n",
              "  <thead>\n",
              "    <tr style=\"text-align: left;\">\n",
              "      <th>epoch</th>\n",
              "      <th>train_loss</th>\n",
              "      <th>valid_loss</th>\n",
              "      <th>accuracy</th>\n",
              "      <th>time</th>\n",
              "    </tr>\n",
              "  </thead>\n",
              "  <tbody>\n",
              "    <tr>\n",
              "      <td>0</td>\n",
              "      <td>0.621506</td>\n",
              "      <td>0.566433</td>\n",
              "      <td>0.786380</td>\n",
              "      <td>02:49</td>\n",
              "    </tr>\n",
              "  </tbody>\n",
              "</table>"
            ],
            "text/plain": [
              "<IPython.core.display.HTML object>"
            ]
          },
          "metadata": {
            "tags": []
          }
        }
      ]
    },
    {
      "cell_type": "code",
      "metadata": {
        "colab": {
          "base_uri": "https://localhost:8080/",
          "height": 202
        },
        "id": "tbrJOpvvVWko",
        "outputId": "473b651b-6d8f-47f8-c266-3bcf14776eb5"
      },
      "source": [
        "rtr_df_1.head()\n"
      ],
      "execution_count": 18,
      "outputs": [
        {
          "output_type": "execute_result",
          "data": {
            "text/html": [
              "<div>\n",
              "<style scoped>\n",
              "    .dataframe tbody tr th:only-of-type {\n",
              "        vertical-align: middle;\n",
              "    }\n",
              "\n",
              "    .dataframe tbody tr th {\n",
              "        vertical-align: top;\n",
              "    }\n",
              "\n",
              "    .dataframe thead th {\n",
              "        text-align: right;\n",
              "    }\n",
              "</style>\n",
              "<table border=\"1\" class=\"dataframe\">\n",
              "  <thead>\n",
              "    <tr style=\"text-align: right;\">\n",
              "      <th></th>\n",
              "      <th>fit</th>\n",
              "      <th>review_text</th>\n",
              "      <th>review_summary</th>\n",
              "      <th>category</th>\n",
              "      <th>size</th>\n",
              "      <th>label</th>\n",
              "    </tr>\n",
              "  </thead>\n",
              "  <tbody>\n",
              "    <tr>\n",
              "      <th>0</th>\n",
              "      <td>fit</td>\n",
              "      <td>An adorable romper Belt zipper little hard nav...</td>\n",
              "      <td>So many compliments!</td>\n",
              "      <td>romper</td>\n",
              "      <td>14</td>\n",
              "      <td>1</td>\n",
              "    </tr>\n",
              "    <tr>\n",
              "      <th>1</th>\n",
              "      <td>fit</td>\n",
              "      <td>I rented dress photo shoot The theme Hollywood...</td>\n",
              "      <td>I felt so glamourous!!!</td>\n",
              "      <td>gown</td>\n",
              "      <td>12</td>\n",
              "      <td>1</td>\n",
              "    </tr>\n",
              "    <tr>\n",
              "      <th>2</th>\n",
              "      <td>fit</td>\n",
              "      <td>This hugged right places It perfect dress even...</td>\n",
              "      <td>It was a great time to celebrate the (almost) ...</td>\n",
              "      <td>sheath</td>\n",
              "      <td>4</td>\n",
              "      <td>1</td>\n",
              "    </tr>\n",
              "    <tr>\n",
              "      <th>3</th>\n",
              "      <td>fit</td>\n",
              "      <td>I rented company black tie awards banquet I li...</td>\n",
              "      <td>Dress arrived on time and in perfect condition.</td>\n",
              "      <td>dress</td>\n",
              "      <td>8</td>\n",
              "      <td>1</td>\n",
              "    </tr>\n",
              "    <tr>\n",
              "      <th>4</th>\n",
              "      <td>fit</td>\n",
              "      <td>I always petite upper body extremely athletic ...</td>\n",
              "      <td>Was in love with this dress !!!</td>\n",
              "      <td>gown</td>\n",
              "      <td>12</td>\n",
              "      <td>1</td>\n",
              "    </tr>\n",
              "  </tbody>\n",
              "</table>\n",
              "</div>"
            ],
            "text/plain": [
              "   fit                                        review_text  ... size label\n",
              "0  fit  An adorable romper Belt zipper little hard nav...  ...   14     1\n",
              "1  fit  I rented dress photo shoot The theme Hollywood...  ...   12     1\n",
              "2  fit  This hugged right places It perfect dress even...  ...    4     1\n",
              "3  fit  I rented company black tie awards banquet I li...  ...    8     1\n",
              "4  fit  I always petite upper body extremely athletic ...  ...   12     1\n",
              "\n",
              "[5 rows x 6 columns]"
            ]
          },
          "metadata": {
            "tags": []
          },
          "execution_count": 18
        }
      ]
    },
    {
      "cell_type": "code",
      "metadata": {
        "id": "oRHj4Yfl9n1k",
        "colab": {
          "base_uri": "https://localhost:8080/",
          "height": 80
        },
        "outputId": "0aab3219-9f8c-4cc8-bf60-2a9c10ba5457"
      },
      "source": [
        "learn.freeze_to(-2)\n",
        "learn.fit_one_cycle(1, slice(1e-2/(2.6**4),1e-2))"
      ],
      "execution_count": 21,
      "outputs": [
        {
          "output_type": "display_data",
          "data": {
            "text/html": [
              "<table border=\"1\" class=\"dataframe\">\n",
              "  <thead>\n",
              "    <tr style=\"text-align: left;\">\n",
              "      <th>epoch</th>\n",
              "      <th>train_loss</th>\n",
              "      <th>valid_loss</th>\n",
              "      <th>accuracy</th>\n",
              "      <th>time</th>\n",
              "    </tr>\n",
              "  </thead>\n",
              "  <tbody>\n",
              "    <tr>\n",
              "      <td>0</td>\n",
              "      <td>0.487946</td>\n",
              "      <td>0.452208</td>\n",
              "      <td>0.835622</td>\n",
              "      <td>03:23</td>\n",
              "    </tr>\n",
              "  </tbody>\n",
              "</table>"
            ],
            "text/plain": [
              "<IPython.core.display.HTML object>"
            ]
          },
          "metadata": {
            "tags": []
          }
        }
      ]
    },
    {
      "cell_type": "code",
      "metadata": {
        "colab": {
          "base_uri": "https://localhost:8080/",
          "height": 80
        },
        "id": "d3QkABNDyo2H",
        "outputId": "bfa5dd12-03a7-4c9e-eba6-2aec0e327e8e"
      },
      "source": [
        "learn.freeze_to(-3)\n",
        "learn.fit_one_cycle(1, slice(5e-3/(2.6**4),5e-3))"
      ],
      "execution_count": 22,
      "outputs": [
        {
          "output_type": "display_data",
          "data": {
            "text/html": [
              "<table border=\"1\" class=\"dataframe\">\n",
              "  <thead>\n",
              "    <tr style=\"text-align: left;\">\n",
              "      <th>epoch</th>\n",
              "      <th>train_loss</th>\n",
              "      <th>valid_loss</th>\n",
              "      <th>accuracy</th>\n",
              "      <th>time</th>\n",
              "    </tr>\n",
              "  </thead>\n",
              "  <tbody>\n",
              "    <tr>\n",
              "      <td>0</td>\n",
              "      <td>0.476607</td>\n",
              "      <td>0.442015</td>\n",
              "      <td>0.840783</td>\n",
              "      <td>05:11</td>\n",
              "    </tr>\n",
              "  </tbody>\n",
              "</table>"
            ],
            "text/plain": [
              "<IPython.core.display.HTML object>"
            ]
          },
          "metadata": {
            "tags": []
          }
        }
      ]
    },
    {
      "cell_type": "code",
      "metadata": {
        "colab": {
          "base_uri": "https://localhost:8080/",
          "height": 417
        },
        "id": "qC9dnxR-yt3f",
        "outputId": "010642cd-2457-46f6-eccd-60d8705696e8"
      },
      "source": [
        "learn.unfreeze()\n",
        "learn.fit_one_cycle(12, slice(1e-3/(2.6**4),1e-3))"
      ],
      "execution_count": 23,
      "outputs": [
        {
          "output_type": "display_data",
          "data": {
            "text/html": [
              "<table border=\"1\" class=\"dataframe\">\n",
              "  <thead>\n",
              "    <tr style=\"text-align: left;\">\n",
              "      <th>epoch</th>\n",
              "      <th>train_loss</th>\n",
              "      <th>valid_loss</th>\n",
              "      <th>accuracy</th>\n",
              "      <th>time</th>\n",
              "    </tr>\n",
              "  </thead>\n",
              "  <tbody>\n",
              "    <tr>\n",
              "      <td>0</td>\n",
              "      <td>0.458848</td>\n",
              "      <td>0.440374</td>\n",
              "      <td>0.841692</td>\n",
              "      <td>06:49</td>\n",
              "    </tr>\n",
              "    <tr>\n",
              "      <td>1</td>\n",
              "      <td>0.463778</td>\n",
              "      <td>0.437292</td>\n",
              "      <td>0.841919</td>\n",
              "      <td>06:57</td>\n",
              "    </tr>\n",
              "    <tr>\n",
              "      <td>2</td>\n",
              "      <td>0.435088</td>\n",
              "      <td>0.437415</td>\n",
              "      <td>0.844126</td>\n",
              "      <td>05:56</td>\n",
              "    </tr>\n",
              "    <tr>\n",
              "      <td>3</td>\n",
              "      <td>0.444873</td>\n",
              "      <td>0.433527</td>\n",
              "      <td>0.844321</td>\n",
              "      <td>06:09</td>\n",
              "    </tr>\n",
              "    <tr>\n",
              "      <td>4</td>\n",
              "      <td>0.424185</td>\n",
              "      <td>0.432606</td>\n",
              "      <td>0.845652</td>\n",
              "      <td>06:38</td>\n",
              "    </tr>\n",
              "    <tr>\n",
              "      <td>5</td>\n",
              "      <td>0.432352</td>\n",
              "      <td>0.434413</td>\n",
              "      <td>0.846463</td>\n",
              "      <td>06:14</td>\n",
              "    </tr>\n",
              "    <tr>\n",
              "      <td>6</td>\n",
              "      <td>0.420299</td>\n",
              "      <td>0.439691</td>\n",
              "      <td>0.845587</td>\n",
              "      <td>06:53</td>\n",
              "    </tr>\n",
              "    <tr>\n",
              "      <td>7</td>\n",
              "      <td>0.375893</td>\n",
              "      <td>0.439290</td>\n",
              "      <td>0.845977</td>\n",
              "      <td>06:30</td>\n",
              "    </tr>\n",
              "    <tr>\n",
              "      <td>8</td>\n",
              "      <td>0.393565</td>\n",
              "      <td>0.442589</td>\n",
              "      <td>0.845749</td>\n",
              "      <td>07:07</td>\n",
              "    </tr>\n",
              "    <tr>\n",
              "      <td>9</td>\n",
              "      <td>0.374063</td>\n",
              "      <td>0.447802</td>\n",
              "      <td>0.843802</td>\n",
              "      <td>06:44</td>\n",
              "    </tr>\n",
              "    <tr>\n",
              "      <td>10</td>\n",
              "      <td>0.368235</td>\n",
              "      <td>0.449229</td>\n",
              "      <td>0.845360</td>\n",
              "      <td>05:57</td>\n",
              "    </tr>\n",
              "    <tr>\n",
              "      <td>11</td>\n",
              "      <td>0.369827</td>\n",
              "      <td>0.447381</td>\n",
              "      <td>0.845133</td>\n",
              "      <td>06:08</td>\n",
              "    </tr>\n",
              "  </tbody>\n",
              "</table>"
            ],
            "text/plain": [
              "<IPython.core.display.HTML object>"
            ]
          },
          "metadata": {
            "tags": []
          }
        }
      ]
    },
    {
      "cell_type": "code",
      "metadata": {
        "id": "kYulxAkk4Hso"
      },
      "source": [
        "learn.save('classifier')"
      ],
      "execution_count": 24,
      "outputs": []
    },
    {
      "cell_type": "code",
      "metadata": {
        "id": "DJOYikn9vZc1",
        "colab": {
          "base_uri": "https://localhost:8080/",
          "height": 17
        },
        "outputId": "476a99a6-b96c-47fb-b7dd-8913152c33d7"
      },
      "source": [
        "preds, y, losses = learn.get_preds(ds_type=DatasetType.Test ,with_loss=True)\n",
        "#interp = ClassificationInterpretation(learn, preds, rtr_df_1_test['label'], losses)\n",
        "#interp.plot_confusion_matrix()"
      ],
      "execution_count": 25,
      "outputs": [
        {
          "output_type": "display_data",
          "data": {
            "text/html": [
              ""
            ],
            "text/plain": [
              "<IPython.core.display.HTML object>"
            ]
          },
          "metadata": {
            "tags": []
          }
        }
      ]
    },
    {
      "cell_type": "code",
      "metadata": {
        "colab": {
          "base_uri": "https://localhost:8080/"
        },
        "id": "z0WyzSjpOMmx",
        "outputId": "c1c41eee-f63c-4e18-a70c-57a24b4cbd60"
      },
      "source": [
        "from sklearn.metrics import confusion_matrix\n",
        "y_pred = np.argmax(preds.numpy(),axis=1)\n",
        "\n",
        "confusion_matrix(rtr_df_1_test['label'], y_pred)"
      ],
      "execution_count": 26,
      "outputs": [
        {
          "output_type": "execute_result",
          "data": {
            "text/plain": [
              "array([[ 2790,  2254,   112],\n",
              "       [  795, 26946,   671],\n",
              "       [  127,  2114,  2700]])"
            ]
          },
          "metadata": {
            "tags": []
          },
          "execution_count": 26
        }
      ]
    },
    {
      "cell_type": "code",
      "metadata": {
        "colab": {
          "base_uri": "https://localhost:8080/",
          "height": 17
        },
        "id": "lc833hMIR5_k",
        "outputId": "8360d03f-8c82-4f9f-9da4-7d4e2baa4c42"
      },
      "source": [
        "train_preds, train_y, train_losses = learn.get_preds(ds_type='train', with_loss=True)"
      ],
      "execution_count": 35,
      "outputs": [
        {
          "output_type": "display_data",
          "data": {
            "text/html": [
              ""
            ],
            "text/plain": [
              "<IPython.core.display.HTML object>"
            ]
          },
          "metadata": {
            "tags": []
          }
        }
      ]
    },
    {
      "cell_type": "code",
      "metadata": {
        "id": "fHDq6j-ByMUh"
      },
      "source": [
        "trn_values = rtr_df_1_trn.category.unique()\n",
        "test_values = rtr_df_1_test.category.unique()\n",
        "category_map = {}\n",
        "for i,value in enumerate(trn_values):\n",
        "  category_map[value] = i\n",
        "for i,value in enumerate(test_values):\n",
        "  category_map[value] = i"
      ],
      "execution_count": 48,
      "outputs": []
    },
    {
      "cell_type": "code",
      "metadata": {
        "id": "LA6B3OW9y_NJ"
      },
      "source": [
        "rtr_df_1_trn['category_map'] = rtr_df_1_trn['category'].apply(lambda x: category_map[x])\n",
        "rtr_df_1_test['category_map'] = rtr_df_1_test['category'].apply(lambda x: category_map[x])"
      ],
      "execution_count": null,
      "outputs": []
    },
    {
      "cell_type": "code",
      "metadata": {
        "id": "tJh6ArC1R8Lj"
      },
      "source": [
        "train_sizes = np.array(rtr_df_1_trn['size']).reshape((-1,1))\n",
        "train_cats = np.array(rtr_df_1_trn['category_map']).reshape((-1,1))\n",
        "X_train = np.concatenate((train_preds, train_sizes, train_cats),axis=1)"
      ],
      "execution_count": 55,
      "outputs": []
    },
    {
      "cell_type": "code",
      "metadata": {
        "id": "LWmk55C5FXrF"
      },
      "source": [
        "y_train = rtr_df_1_trn['label']"
      ],
      "execution_count": 56,
      "outputs": []
    },
    {
      "cell_type": "code",
      "metadata": {
        "id": "6MKBEJazR-Kl"
      },
      "source": [
        "test_sizes = np.array(rtr_df_1_test['size']).reshape((-1,1))\n",
        "test_cats = np.array(rtr_df_1_test['category_map']).reshape((-1,1))\n",
        "X_test = np.concatenate((preds, test_sizes, test_cats),axis=1)"
      ],
      "execution_count": 57,
      "outputs": []
    },
    {
      "cell_type": "code",
      "metadata": {
        "id": "1HaVrctCFrgJ"
      },
      "source": [
        "y_test = rtr_df_1_test['label']"
      ],
      "execution_count": 58,
      "outputs": []
    },
    {
      "cell_type": "code",
      "metadata": {
        "id": "h0Nkqq4iFvyO"
      },
      "source": [
        "from sklearn.neural_network import MLPClassifier\n",
        "from sklearn.linear_model import LogisticRegression\n",
        "classifier = LogisticRegression(max_iter=800)\n",
        "classifier.fit(X_train, y_train)\n",
        "final_predictions = classifier.predict(X_test)"
      ],
      "execution_count": 62,
      "outputs": []
    },
    {
      "cell_type": "code",
      "metadata": {
        "colab": {
          "base_uri": "https://localhost:8080/"
        },
        "id": "rGtX0fm21Brn",
        "outputId": "a93848f7-f03f-4c30-c4af-c2be75104ed9"
      },
      "source": [
        "confusion_matrix(y_test, final_predictions)"
      ],
      "execution_count": 64,
      "outputs": [
        {
          "output_type": "execute_result",
          "data": {
            "text/plain": [
              "array([[ 2910,  2123,   123],\n",
              "       [  941, 26639,   832],\n",
              "       [  132,  2000,  2809]])"
            ]
          },
          "metadata": {
            "tags": []
          },
          "execution_count": 64
        }
      ]
    }
  ]
}