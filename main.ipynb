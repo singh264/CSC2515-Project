{
 "cells": [
  {
   "cell_type": "code",
   "execution_count": 1,
   "metadata": {},
   "outputs": [
    {
     "name": "stderr",
     "output_type": "stream",
     "text": [
      "[nltk_data] Downloading package wordnet to /home/jovyan/nltk_data...\n",
      "[nltk_data]   Unzipping corpora/wordnet.zip.\n",
      "[nltk_data] Downloading package brown to /home/jovyan/nltk_data...\n",
      "[nltk_data]   Unzipping corpora/brown.zip.\n",
      "[nltk_data] Downloading package punkt to /home/jovyan/nltk_data...\n",
      "[nltk_data]   Unzipping tokenizers/punkt.zip.\n"
     ]
    },
    {
     "data": {
      "text/plain": [
       "True"
      ]
     },
     "execution_count": 1,
     "metadata": {},
     "output_type": "execute_result"
    }
   ],
   "source": [
    "import json\n",
    "import matplotlib.pyplot as plt\n",
    "import numpy as np\n",
    "from pathlib import Path\n",
    "from typing import Dict\n",
    "from textblob import TextBlob\n",
    "import nltk\n",
    "\n",
    "nltk.download(\"wordnet\")\n",
    "nltk.download(\"brown\")\n",
    "nltk.download('punkt')"
   ]
  },
  {
   "cell_type": "markdown",
   "metadata": {},
   "source": [
    "# Unzip Data"
   ]
  },
  {
   "cell_type": "code",
   "execution_count": 2,
   "metadata": {},
   "outputs": [
    {
     "name": "stdout",
     "output_type": "stream",
     "text": [
      "Archive:  ./modcloth_data.json.zip\n",
      "  inflating: modcloth_data.json      \n",
      "  inflating: __MACOSX/._modcloth_data.json  \n",
      "Archive:  ./renttherunway_data_1.json.zip\n",
      "  inflating: renttherunway_data_1.json  \n",
      "  inflating: __MACOSX/._renttherunway_data_1.json  \n",
      "Archive:  ./renttherunway_data_2.json.zip\n",
      "  inflating: renttherunway_data_2.json  \n"
     ]
    }
   ],
   "source": [
    "!unzip ./modcloth_data.json.zip\n",
    "!unzip ./renttherunway_data_1.json.zip\n",
    "!unzip ./renttherunway_data_2.json.zip"
   ]
  },
  {
   "cell_type": "code",
   "execution_count": 3,
   "metadata": {},
   "outputs": [],
   "source": [
    "RUNTHERUNWAY_1_FILE_PATH = Path('./renttherunway_data_1.json')\n",
    "RUNTHERUNWAY_2_FILE_PATH = Path('./renttherunway_data_2.json')\n",
    "MODCLOTH_FILE_PATH = Path('./modcloth_data.json')"
   ]
  },
  {
   "cell_type": "markdown",
   "metadata": {},
   "source": [
    "# Load Runtherunway"
   ]
  },
  {
   "cell_type": "code",
   "execution_count": 4,
   "metadata": {},
   "outputs": [],
   "source": [
    "runtherunway = {'data': {}, 'features': set()}\n",
    "with open(RUNTHERUNWAY_1_FILE_PATH, 'r') as infile:\n",
    "    for line in infile:\n",
    "        review = json.loads(line)\n",
    "        item_id = review['item_id']\n",
    "        if item_id in runtherunway['data']:\n",
    "            runtherunway['data'][item_id].append(review)\n",
    "        else:\n",
    "            runtherunway['data'][item_id] = [review]\n",
    "\n",
    "        for key in review.keys():\n",
    "            runtherunway['features'].add(key)\n",
    "\n",
    "with open(RUNTHERUNWAY_2_FILE_PATH, 'r') as infile:\n",
    "    for line in infile:\n",
    "        review = json.loads(line)\n",
    "        item_id = review['item_id']\n",
    "        if item_id in runtherunway['data']:\n",
    "            runtherunway['data'][item_id].append(review)\n",
    "        else:\n",
    "            runtherunway['data'][item_id] = [review]\n",
    "\n",
    "        for key in review.keys():\n",
    "            runtherunway['features'].add(key)"
   ]
  },
  {
   "cell_type": "markdown",
   "metadata": {},
   "source": [
    "# Load Modcloth"
   ]
  },
  {
   "cell_type": "code",
   "execution_count": 5,
   "metadata": {},
   "outputs": [],
   "source": [
    "modcloth = {'data': {}, 'features': set()}\n",
    "with open(MODCLOTH_FILE_PATH, 'r') as infile:\n",
    "    for row in infile:\n",
    "        review = json.loads(row)\n",
    "        item_id = review['item_id']\n",
    "        if item_id in modcloth['data']:\n",
    "            modcloth['data'][item_id].append(review)\n",
    "        else:\n",
    "            modcloth['data'][item_id] = [review]\n",
    "\n",
    "        for key in review.keys():\n",
    "            modcloth['features'].add(key)"
   ]
  },
  {
   "cell_type": "markdown",
   "metadata": {},
   "source": [
    "# Data Features"
   ]
  },
  {
   "cell_type": "code",
   "execution_count": 6,
   "metadata": {},
   "outputs": [
    {
     "name": "stdout",
     "output_type": "stream",
     "text": [
      "runtherunway_features = {'review_text', 'weight', 'bust size', 'body type', 'user_id', 'height', 'fit', 'age', 'item_id', 'category', 'size', 'review_summary', 'rating', 'rented for', 'review_date'} 15\n",
      "\n",
      "modcloth_features = {'shoe size', 'review_text', 'hips', 'height', 'user_id', 'fit', 'cup size', 'size', 'item_id', 'user_name', 'shoe width', 'bust', 'quality', 'waist', 'length', 'review_summary', 'category', 'bra size'} 18\n",
      "\n",
      "common_features = {'review_text', 'height', 'user_id', 'fit', 'item_id', 'size', 'review_summary', 'category'} 8\n"
     ]
    }
   ],
   "source": [
    "common_features = runtherunway['features'].intersection(modcloth['features'])\n",
    "print(f\"runtherunway_features = {runtherunway['features']} {len(runtherunway['features'])}\\n\")\n",
    "print(f\"modcloth_features = {modcloth['features']} {len(modcloth['features'])}\\n\")\n",
    "print(f\"common_features = {common_features} {len(common_features)}\")"
   ]
  },
  {
   "cell_type": "markdown",
   "metadata": {},
   "source": [
    "# Data Count - Items and Reviews"
   ]
  },
  {
   "cell_type": "code",
   "execution_count": 15,
   "metadata": {},
   "outputs": [
    {
     "name": "stdout",
     "output_type": "stream",
     "text": [
      "total items = 5850 + 1378 = 7228\n",
      "total reviews = 192544 + 82790 = 275334\n"
     ]
    }
   ],
   "source": [
    "def get_reviews_count(data):\n",
    "    count = 0\n",
    "    for item_id, reviews in data.items():\n",
    "        count += len(reviews)\n",
    "    return count\n",
    "        \n",
    "modcloth_items_count = len(modcloth['data'].keys())\n",
    "runtherunway_items_count = len(runtherunway['data'].keys())\n",
    "total_items_count = modcloth_items_count + runtherunway_items_count\n",
    "print(f'total items = {runtherunway_items_count} + {modcloth_items_count} = {total_items_count}')\n",
    "\n",
    "runtherunway_reviews_count = get_reviews_count(runtherunway['data'])\n",
    "modcloth_reviews_count = get_reviews_count(modcloth['data'])\n",
    "total_reviews_count = runtherunway_reviews_count + modcloth_reviews_count\n",
    "print(f'total reviews = {runtherunway_reviews_count} + {modcloth_reviews_count} = {total_reviews_count}')"
   ]
  },
  {
   "cell_type": "markdown",
   "metadata": {},
   "source": [
    "# Total Data\n",
    "\n",
    "- Only keep reviews that have common_features from both modcloth and runtherunway clothing fit data.\n",
    "\n",
    "- Data schema is - Dict[str, List[Dict]] \n",
    "\n",
    "- Ex - {'ItemId_1': [{'review_text': '..', 'height': '..', ..., 'category': '..'}, ...], 'ItemId_2': [{..}, ...], ...}"
   ]
  },
  {
   "cell_type": "code",
   "execution_count": 16,
   "metadata": {},
   "outputs": [
    {
     "name": "stdout",
     "output_type": "stream",
     "text": [
      "TOTAL\n",
      "Number of items = 7225\n",
      "Number of reviews = 266929\n"
     ]
    }
   ],
   "source": [
    "def data_contains_features(data, features):\n",
    "    data_features = data.keys()\n",
    "    for f in features:\n",
    "        if f not in data_features:\n",
    "            return False\n",
    "    return True\n",
    "\n",
    "total_data = {}\n",
    "for item_id, reviews in modcloth['data'].items():\n",
    "    if item_id not in total_data:\n",
    "        total_data[item_id] = []\n",
    "    \n",
    "    for review in reviews:\n",
    "        if data_contains_features(review, common_features):\n",
    "            total_data[item_id].append(review)\n",
    "\n",
    "for item_id, reviews in runtherunway['data'].items():\n",
    "    if item_id not in total_data:\n",
    "        total_data[item_id] = []\n",
    "    \n",
    "    for review in reviews:\n",
    "        if data_contains_features(review, common_features):\n",
    "            total_data[item_id].append(review)\n",
    "\n",
    "\n",
    "total_items_count = len(total_data)\n",
    "total_reviews_count = get_reviews_count(total_data)\n",
    "\n",
    "print('TOTAL')\n",
    "print(f'Number of items = {total_items_count}')\n",
    "print(f'Number of reviews = {total_reviews_count}')"
   ]
  },
  {
   "cell_type": "markdown",
   "metadata": {},
   "source": [
    "# Train and Test Data"
   ]
  },
  {
   "cell_type": "code",
   "execution_count": 18,
   "metadata": {},
   "outputs": [
    {
     "name": "stdout",
     "output_type": "stream",
     "text": [
      "TRAIN\n",
      "Number of items = 5057\n",
      "Number of reviews = 251578\n",
      "\n",
      "TEST\n",
      "Number of items = 2168\n",
      "Number of reviews = 15351\n"
     ]
    }
   ],
   "source": [
    "train_items_percent = 0.7\n",
    "train_items_count = int(total_items_count * train_size_percent)\n",
    "\n",
    "# Get train and test items\n",
    "total_items = list(total_data.keys())\n",
    "train_items = total_items[:train_items_count]\n",
    "test_items = total_items[train_items_count:]\n",
    "\n",
    "# Curate train and test data\n",
    "train_data = {item: total_data[item] for item in train_items}\n",
    "test_data = {item: total_data[item] for item in test_items}\n",
    "\n",
    "print('TRAIN')\n",
    "print(f'Number of items = {len(train_items)}')\n",
    "print(f'Number of reviews = {get_reviews_count(train_data)}')\n",
    "\n",
    "print('')\n",
    "\n",
    "print('TEST')\n",
    "print(f'Number of items = {len(test_items)}')\n",
    "print(f'Number of reviews = {get_reviews_count(test_data)}')"
   ]
  },
  {
   "cell_type": "markdown",
   "metadata": {},
   "source": [
    "# Types of 'fit' (Classifications)"
   ]
  },
  {
   "cell_type": "code",
   "execution_count": 19,
   "metadata": {},
   "outputs": [
    {
     "name": "stdout",
     "output_type": "stream",
     "text": [
      "{'small', 'fit', 'large'} 3\n"
     ]
    }
   ],
   "source": [
    "labels = set()\n",
    "for review_list in train_data.values():\n",
    "    for review in review_list:\n",
    "        labels.add(review['fit'])\n",
    "\n",
    "print(labels, len(labels))"
   ]
  },
  {
   "cell_type": "markdown",
   "metadata": {},
   "source": [
    "# Class Distributions"
   ]
  },
  {
   "cell_type": "code",
   "execution_count": 21,
   "metadata": {},
   "outputs": [
    {
     "data": {
      "image/png": "[encoded data removed]",
      "text/plain": [
       "<Figure size 432x288 with 1 Axes>"
      ]
     },
     "metadata": {},
     "output_type": "display_data"
    }
   ],
   "source": [
    "labels_count = {l: 0 for l in labels}\n",
    "\n",
    "for review_list in train_data.values():\n",
    "    for review in review_list:\n",
    "        labels_count[review['fit']] += 1 \n",
    "\n",
    "for label in labels_count.keys():\n",
    "    labels_count[label] = int((labels_count[label] / total_reviews_count) * 100)\n",
    "\n",
    "labels = labels_count.keys()\n",
    "sizes = labels_count.values()\n",
    "\n",
    "fig, ax = plt.subplots()\n",
    "ax.pie(sizes, labels=labels, autopct='%1.1f%%', shadow=True, startangle=90)\n",
    "plt.title('Fit Distribution')\n",
    "plt.show()"
   ]
  },
  {
   "cell_type": "markdown",
   "metadata": {},
   "source": [
    "# Does user's 'height' influence 'fit'?"
   ]
  },
  {
   "cell_type": "code",
   "execution_count": 22,
   "metadata": {},
   "outputs": [
    {
     "data": {
      "image/png": "[encoded data removed]",
      "text/plain": [
       "<Figure size 432x288 with 1 Axes>"
      ]
     },
     "metadata": {
      "needs_background": "light"
     },
     "output_type": "display_data"
    }
   ],
   "source": [
    "def get_height_in_meters(height_str):\n",
    "    if 'ft' in height_str:\n",
    "        feet = int(height_str[0])\n",
    "        inches = int(height_str[-3])\n",
    "    else:\n",
    "        feet = int(height_str[0])\n",
    "        inches = int(height_str[-2])\n",
    "    height = feet * 0.3048 + inches * 0.0254\n",
    "    return round(height, 2)\n",
    "\n",
    "heights_count = {}\n",
    "all_heights = []\n",
    "\n",
    "for review_list in train_data.values():\n",
    "    for review in review_list:\n",
    "        if 'height' in review:\n",
    "            height = get_height_in_meters(review['height'])\n",
    "            heights_count[height] = heights_count.get(height, 0) + 1\n",
    "            all_heights.append(height)\n",
    "\n",
    "heights = [h for h in sorted(heights_count)]\n",
    "counts = [heights_count[h] for h in heights]\n",
    "height_mean = round(np.mean(all_heights), 2)\n",
    "height_variance = round(np.var(all_heights), 2)\n",
    "\n",
    "fig, ax = plt.subplots()\n",
    "ax.plot(heights, counts)\n",
    "plt.title('User Height Distribution')\n",
    "plt.xlabel('User Height (meters)')\n",
    "plt.ylabel('Count')\n",
    "note = '\\n'.join((f'mean = {height_mean}', f'var = {height_variance}'))\n",
    "props = dict(boxstyle='round', facecolor='wheat', alpha=0.2)\n",
    "ax.text(0.05, 0.95, note, transform=ax.transAxes, fontsize=14, verticalalignment='top', bbox=props)\n",
    "plt.show()"
   ]
  },
  {
   "cell_type": "markdown",
   "metadata": {},
   "source": [
    "# Does item's 'size' influence 'fit'?"
   ]
  },
  {
   "cell_type": "code",
   "execution_count": 23,
   "metadata": {},
   "outputs": [
    {
     "data": {
      "image/png": "[encoded data removed]",
      "text/plain": [
       "<Figure size 432x288 with 1 Axes>"
      ]
     },
     "metadata": {
      "needs_background": "light"
     },
     "output_type": "display_data"
    }
   ],
   "source": [
    "sizes_count = {}\n",
    "all_sizes = []\n",
    "\n",
    "for review_list in train_data.values():\n",
    "    for review in review_list:\n",
    "        if 'size' in review:\n",
    "            size = review['size']\n",
    "            sizes_count[size] = sizes_count.get(size, 0) + 1\n",
    "            all_sizes.append(size)\n",
    "\n",
    "sizes = [h for h in sorted(sizes_count)]\n",
    "counts = [sizes_count[s] for s in sizes]\n",
    "size_mean = round(np.mean(all_sizes), 2)\n",
    "size_variance = round(np.var(all_sizes), 2)\n",
    "\n",
    "fig, ax = plt.subplots()\n",
    "ax.plot(sizes, counts)\n",
    "plt.title('Clothing Size Distribution')\n",
    "plt.xlabel('Clothing Size')\n",
    "plt.ylabel('Count')\n",
    "note = '\\n'.join((f'mean = {size_mean}', f'var = {size_variance}'))\n",
    "props = dict(boxstyle='round', facecolor='wheat', alpha=0.2)\n",
    "ax.text(0.65, 0.95, note, transform=ax.transAxes, fontsize=14, verticalalignment='top', bbox=props)\n",
    "plt.show()"
   ]
  },
  {
   "cell_type": "markdown",
   "metadata": {},
   "source": [
    "# Does user's 'review_text' + 'review_summary' influence 'fit'?"
   ]
  },
  {
   "cell_type": "code",
   "execution_count": 24,
   "metadata": {},
   "outputs": [
    {
     "name": "stdout",
     "output_type": "stream",
     "text": [
      "{'positive': 238001, 'negative': 9788}\n"
     ]
    }
   ],
   "source": [
    "def get_sentiment(text):\n",
    "    sentiment = TextBlob(text).sentiment\n",
    "    return sentiment.polarity\n",
    "\n",
    "sentiment_count = {'positive': 0, 'negative': 0}\n",
    "\n",
    "for review_list in train_data.values():\n",
    "    for review in review_list:\n",
    "        text = ''\n",
    "        if 'review_text' in review:\n",
    "            text += review['review_text']\n",
    "        if 'review_summary' in review:\n",
    "            text += review['review_summary']\n",
    "            \n",
    "        sentiment = get_sentiment(text)\n",
    "        if sentiment > 0:\n",
    "            sentiment_count['positive'] += 1\n",
    "        elif sentiment < 0:\n",
    "            sentiment_count['negative'] += 1\n",
    "\n",
    "print(sentiment_count)"
   ]
  },
  {
   "cell_type": "code",
   "execution_count": 25,
   "metadata": {},
   "outputs": [
    {
     "data": {
      "image/png": "[encoded data removed]",
      "text/plain": [
       "<Figure size 432x288 with 1 Axes>"
      ]
     },
     "metadata": {
      "needs_background": "light"
     },
     "output_type": "display_data"
    }
   ],
   "source": [
    "fig = plt.figure()\n",
    "ax = fig.add_axes([0,0,1,1])\n",
    "ax.bar(['Negative', 'Positive'], [sentiment_count['negative'], sentiment_count['positive']])\n",
    "plt.title('Sentiment Analysis')\n",
    "plt.xlabel('Sentiment')\n",
    "plt.ylabel('Count')\n",
    "plt.show()"
   ]
  },
  {
   "cell_type": "code",
   "execution_count": null,
   "metadata": {},
   "outputs": [],
   "source": []
  }
 ],
 "metadata": {
  "colab": {
   "authorship_tag": "ABX9TyPV1Zj2+l7Q/S02njquYrH+",
   "collapsed_sections": [
    "3eroqORw5kYm"
   ],
   "name": "main.ipynb",
   "provenance": []
  },
  "kernelspec": {
   "display_name": "Python 3",
   "language": "python",
   "name": "python3"
  },
  "language_info": {
   "codemirror_mode": {
    "name": "ipython",
    "version": 3
   },
   "file_extension": ".py",
   "mimetype": "text/x-python",
   "name": "python",
   "nbconvert_exporter": "python",
   "pygments_lexer": "ipython3",
   "version": "3.7.8"
  }
 },
 "nbformat": 4,
 "nbformat_minor": 1
}
