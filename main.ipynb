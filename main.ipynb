{
 "cells": [
  {
   "cell_type": "code",
   "execution_count": 1,
   "metadata": {},
   "outputs": [],
   "source": [
    "import json\n",
    "from pathlib import Path\n",
    "from typing import Dict"
   ]
  },
  {
   "cell_type": "markdown",
   "metadata": {},
   "source": [
    "# Unzip Data"
   ]
  },
  {
   "cell_type": "code",
   "execution_count": 2,
   "metadata": {},
   "outputs": [
    {
     "name": "stdout",
     "output_type": "stream",
     "text": [
      "Archive:  ./data/modcloth_data.json.zip\n",
      "  inflating: modcloth_data.json      \n",
      "  inflating: __MACOSX/._modcloth_data.json  \n",
      "Archive:  ./data/renttherunway_data_1.json.zip\n",
      "  inflating: renttherunway_data_1.json  \n",
      "  inflating: __MACOSX/._renttherunway_data_1.json  \n",
      "Archive:  ./data/renttherunway_data_2.json.zip\n",
      "  inflating: renttherunway_data_2.json  \n"
     ]
    }
   ],
   "source": [
    "!unzip ./modcloth_data.json.zip\n",
    "!unzip ./renttherunway_data_1.json.zip\n",
    "!unzip ./renttherunway_data_2.json.zip"
   ]
  },
  {
   "cell_type": "code",
   "execution_count": 5,
   "metadata": {},
   "outputs": [],
   "source": [
    "RUNTHERUNWAY_1_FILE_PATH = Path('./renttherunway_data_1.json')\n",
    "RUNTHERUNWAY_2_FILE_PATH = Path('./renttherunway_data_2.json')\n",
    "MODCLOTH_FILE_PATH = Path('./modcloth_data.json')"
   ]
  },
  {
   "cell_type": "markdown",
   "metadata": {},
   "source": [
    "# Load Runtherunway"
   ]
  },
  {
   "cell_type": "code",
   "execution_count": 1,
   "metadata": {},
   "outputs": [
    {
     "ename": "NameError",
     "evalue": "name 'RUNTHERUNWAY_1_FILE_PATH' is not defined",
     "output_type": "error",
     "traceback": [
      "\u001b[0;31m---------------------------------------------------------------------------\u001b[0m",
      "\u001b[0;31mNameError\u001b[0m                                 Traceback (most recent call last)",
      "\u001b[0;32m<ipython-input-1-ef4df43fbb22>\u001b[0m in \u001b[0;36m<module>\u001b[0;34m\u001b[0m\n\u001b[1;32m      1\u001b[0m \u001b[0mruntherunway\u001b[0m \u001b[0;34m=\u001b[0m \u001b[0;34m{\u001b[0m\u001b[0;34m'data'\u001b[0m\u001b[0;34m:\u001b[0m \u001b[0;34m{\u001b[0m\u001b[0;34m}\u001b[0m\u001b[0;34m,\u001b[0m \u001b[0;34m'features'\u001b[0m\u001b[0;34m:\u001b[0m \u001b[0mset\u001b[0m\u001b[0;34m(\u001b[0m\u001b[0;34m)\u001b[0m\u001b[0;34m}\u001b[0m\u001b[0;34m\u001b[0m\u001b[0;34m\u001b[0m\u001b[0m\n\u001b[0;32m----> 2\u001b[0;31m \u001b[0;32mwith\u001b[0m \u001b[0mopen\u001b[0m\u001b[0;34m(\u001b[0m\u001b[0mRUNTHERUNWAY_1_FILE_PATH\u001b[0m\u001b[0;34m,\u001b[0m \u001b[0;34m'r'\u001b[0m\u001b[0;34m)\u001b[0m \u001b[0;32mas\u001b[0m \u001b[0minfile\u001b[0m\u001b[0;34m:\u001b[0m\u001b[0;34m\u001b[0m\u001b[0;34m\u001b[0m\u001b[0m\n\u001b[0m\u001b[1;32m      3\u001b[0m     \u001b[0;32mfor\u001b[0m \u001b[0mline\u001b[0m \u001b[0;32min\u001b[0m \u001b[0minfile\u001b[0m\u001b[0;34m:\u001b[0m\u001b[0;34m\u001b[0m\u001b[0;34m\u001b[0m\u001b[0m\n\u001b[1;32m      4\u001b[0m         \u001b[0mreview\u001b[0m \u001b[0;34m=\u001b[0m \u001b[0mjson\u001b[0m\u001b[0;34m.\u001b[0m\u001b[0mloads\u001b[0m\u001b[0;34m(\u001b[0m\u001b[0mline\u001b[0m\u001b[0;34m)\u001b[0m\u001b[0;34m\u001b[0m\u001b[0;34m\u001b[0m\u001b[0m\n\u001b[1;32m      5\u001b[0m         \u001b[0mitem_id\u001b[0m \u001b[0;34m=\u001b[0m \u001b[0mreview\u001b[0m\u001b[0;34m[\u001b[0m\u001b[0;34m'item_id'\u001b[0m\u001b[0;34m]\u001b[0m\u001b[0;34m\u001b[0m\u001b[0;34m\u001b[0m\u001b[0m\n",
      "\u001b[0;31mNameError\u001b[0m: name 'RUNTHERUNWAY_1_FILE_PATH' is not defined"
     ]
    }
   ],
   "source": [
    "runtherunway = {'data': {}, 'features': set()}\n",
    "with open(RUNTHERUNWAY_1_FILE_PATH, 'r') as infile:\n",
    "    for line in infile:\n",
    "        review = json.loads(line)\n",
    "        item_id = review['item_id']\n",
    "        if item_id in runtherunway['data']:\n",
    "            runtherunway['data'][item_id].append(review)\n",
    "        else:\n",
    "            runtherunway['data'][item_id] = [review]\n",
    "\n",
    "        for key in review.keys():\n",
    "            runtherunway['features'].add(key)\n",
    "\n",
    "with open(RUNTHERUNWAY_2_FILE_PATH, 'r') as infile:\n",
    "    for line in infile:\n",
    "        review = json.loads(line)\n",
    "        item_id = review['item_id']\n",
    "        if item_id in runtherunway['data']:\n",
    "            runtherunway['data'][item_id].append(review)\n",
    "        else:\n",
    "            runtherunway['data'][item_id] = [review]\n",
    "\n",
    "        for key in review.keys():\n",
    "            runtherunway['features'].add(key)\n",
    "\n",
    "print(runtherunway)"
   ]
  },
  {
   "cell_type": "markdown",
   "metadata": {},
   "source": [
    "# Load Modcloth"
   ]
  },
  {
   "cell_type": "code",
   "execution_count": null,
   "metadata": {},
   "outputs": [],
   "source": [
    "modcloth = {'data': {}, 'features': set()}\n",
    "with open(MODCLOTH_FILE_PATH, 'r') as infile:\n",
    "    for row in infile:\n",
    "        review = json.loads(row)\n",
    "        item_id = review['item_id']\n",
    "        if item_id in modcloth['data']:\n",
    "            modcloth['data'][item_id].append(review)\n",
    "        else:\n",
    "            modcloth['data'][item_id] = [review]\n",
    "\n",
    "        for key in review.keys():\n",
    "            modcloth['features'].add(key)\n",
    "\n",
    "# print(modcloth)"
   ]
  },
  {
   "cell_type": "markdown",
   "metadata": {},
   "source": [
    "# Data Features"
   ]
  },
  {
   "cell_type": "code",
   "execution_count": null,
   "metadata": {},
   "outputs": [],
   "source": [
    "common_features = runtherunway['features'].intersection(modcloth['features'])\n",
    "print(f\"runtherunway_features = {runtherunway['features']} {len(runtherunway['features'])}\\n\")\n",
    "print(f\"modcloth_features = {modcloth['features']} {len(modcloth['features'])}\\n\")\n",
    "print(f\"common_features = {common_features} {len(common_features)}\")"
   ]
  },
  {
   "cell_type": "markdown",
   "metadata": {},
   "source": [
    "# Data Count - Items and Reviews"
   ]
  },
  {
   "cell_type": "code",
   "execution_count": null,
   "metadata": {},
   "outputs": [],
   "source": [
    "runtherunway_reviews_count = 0\n",
    "for item_id, reviews in runtherunway['data'].items():\n",
    "    runtherunway_reviews_count += len(reviews)\n",
    "\n",
    "modcloth_reviews_count = 0\n",
    "for item_id, reviews in modcloth['data'].items():\n",
    "    modcloth_reviews_count += len(reviews)\n",
    "\n",
    "modcloth_items_count = len(modcloth['data'].keys())\n",
    "runtherunway_items_count = len(runtherunway['data'].keys())\n",
    "print(f'total items = {runtherunway_items_count} + {modcloth_items_count} = {modcloth_items_count + runtherunway_items_count}')\n",
    "print(f'total reviews = {runtherunway_reviews_count} + {modcloth_reviews_count} = {runtherunway_reviews_count} + {modcloth_reviews_count}')"
   ]
  },
  {
   "cell_type": "code",
   "execution_count": null,
   "metadata": {},
   "outputs": [],
   "source": []
  }
 ],
 "metadata": {
  "colab": {
   "authorship_tag": "ABX9TyPV1Zj2+l7Q/S02njquYrH+",
   "collapsed_sections": [
    "3eroqORw5kYm"
   ],
   "name": "main.ipynb",
   "provenance": []
  },
  "kernelspec": {
   "display_name": "Python 3",
   "language": "python",
   "name": "python3"
  },
  "language_info": {
   "codemirror_mode": {
    "name": "ipython",
    "version": 3
   },
   "file_extension": ".py",
   "mimetype": "text/x-python",
   "name": "python",
   "nbconvert_exporter": "python",
   "pygments_lexer": "ipython3",
   "version": "3.7.8"
  }
 },
 "nbformat": 4,
 "nbformat_minor": 1
}
