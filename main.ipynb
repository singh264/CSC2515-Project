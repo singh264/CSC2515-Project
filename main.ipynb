{
 "cells": [
  {
   "cell_type": "code",
   "execution_count": 1,
   "metadata": {},
   "outputs": [],
   "source": [
    "import json\n",
    "from pathlib import Path\n",
    "from typing import Dict"
   ]
  },
  {
   "cell_type": "markdown",
   "metadata": {},
   "source": [
    "# Unzip Data"
   ]
  },
  {
   "cell_type": "code",
   "execution_count": 2,
   "metadata": {},
   "outputs": [
    {
     "name": "stdout",
     "output_type": "stream",
     "text": [
      "Archive:  ./modcloth_data.json.zip\n",
      "  inflating: modcloth_data.json      \n",
      "  inflating: __MACOSX/._modcloth_data.json  \n",
      "Archive:  ./renttherunway_data_1.json.zip\n",
      "  inflating: renttherunway_data_1.json  \n",
      "  inflating: __MACOSX/._renttherunway_data_1.json  \n",
      "Archive:  ./renttherunway_data_2.json.zip\n",
      "  inflating: renttherunway_data_2.json  \n"
     ]
    }
   ],
   "source": [
    "!unzip ./modcloth_data.json.zip\n",
    "!unzip ./renttherunway_data_1.json.zip\n",
    "!unzip ./renttherunway_data_2.json.zip"
   ]
  },
  {
   "cell_type": "code",
   "execution_count": 3,
   "metadata": {},
   "outputs": [],
   "source": [
    "RUNTHERUNWAY_1_FILE_PATH = Path('./renttherunway_data_1.json')\n",
    "RUNTHERUNWAY_2_FILE_PATH = Path('./renttherunway_data_2.json')\n",
    "MODCLOTH_FILE_PATH = Path('./modcloth_data.json')"
   ]
  },
  {
   "cell_type": "markdown",
   "metadata": {},
   "source": [
    "# Load Runtherunway"
   ]
  },
  {
   "cell_type": "code",
   "execution_count": 4,
   "metadata": {},
   "outputs": [],
   "source": [
    "runtherunway = {'data': {}, 'features': set()}\n",
    "with open(RUNTHERUNWAY_1_FILE_PATH, 'r') as infile:\n",
    "    for line in infile:\n",
    "        review = json.loads(line)\n",
    "        item_id = review['item_id']\n",
    "        if item_id in runtherunway['data']:\n",
    "            runtherunway['data'][item_id].append(review)\n",
    "        else:\n",
    "            runtherunway['data'][item_id] = [review]\n",
    "\n",
    "        for key in review.keys():\n",
    "            runtherunway['features'].add(key)\n",
    "\n",
    "with open(RUNTHERUNWAY_2_FILE_PATH, 'r') as infile:\n",
    "    for line in infile:\n",
    "        review = json.loads(line)\n",
    "        item_id = review['item_id']\n",
    "        if item_id in runtherunway['data']:\n",
    "            runtherunway['data'][item_id].append(review)\n",
    "        else:\n",
    "            runtherunway['data'][item_id] = [review]\n",
    "\n",
    "        for key in review.keys():\n",
    "            runtherunway['features'].add(key)"
   ]
  },
  {
   "cell_type": "markdown",
   "metadata": {},
   "source": [
    "# Load Modcloth"
   ]
  },
  {
   "cell_type": "code",
   "execution_count": 5,
   "metadata": {},
   "outputs": [],
   "source": [
    "modcloth = {'data': {}, 'features': set()}\n",
    "with open(MODCLOTH_FILE_PATH, 'r') as infile:\n",
    "    for row in infile:\n",
    "        review = json.loads(row)\n",
    "        item_id = review['item_id']\n",
    "        if item_id in modcloth['data']:\n",
    "            modcloth['data'][item_id].append(review)\n",
    "        else:\n",
    "            modcloth['data'][item_id] = [review]\n",
    "\n",
    "        for key in review.keys():\n",
    "            modcloth['features'].add(key)"
   ]
  },
  {
   "cell_type": "markdown",
   "metadata": {},
   "source": [
    "# Data Features"
   ]
  },
  {
   "cell_type": "code",
   "execution_count": 6,
   "metadata": {},
   "outputs": [
    {
     "name": "stdout",
     "output_type": "stream",
     "text": [
      "runtherunway_features = {'bust size', 'age', 'item_id', 'rented for', 'user_id', 'category', 'review_text', 'review_date', 'review_summary', 'height', 'weight', 'fit', 'size', 'rating', 'body type'} 15\n",
      "\n",
      "modcloth_features = {'cup size', 'item_id', 'bust', 'quality', 'user_id', 'category', 'review_text', 'fit', 'shoe width', 'waist', 'shoe size', 'review_summary', 'height', 'user_name', 'length', 'bra size', 'size', 'hips'} 18\n",
      "\n",
      "common_features = {'item_id', 'user_id', 'category', 'review_text', 'review_summary', 'height', 'fit', 'size'} 8\n"
     ]
    }
   ],
   "source": [
    "common_features = runtherunway['features'].intersection(modcloth['features'])\n",
    "print(f\"runtherunway_features = {runtherunway['features']} {len(runtherunway['features'])}\\n\")\n",
    "print(f\"modcloth_features = {modcloth['features']} {len(modcloth['features'])}\\n\")\n",
    "print(f\"common_features = {common_features} {len(common_features)}\")"
   ]
  },
  {
   "cell_type": "markdown",
   "metadata": {},
   "source": [
    "# Data Count - Items and Reviews"
   ]
  },
  {
   "cell_type": "code",
   "execution_count": 7,
   "metadata": {},
   "outputs": [
    {
     "name": "stdout",
     "output_type": "stream",
     "text": [
      "total items = 5850 + 1378 = 7228\n",
      "total reviews = 192544 + 82790 = 192544 + 82790\n"
     ]
    }
   ],
   "source": [
    "runtherunway_reviews_count = 0\n",
    "for item_id, reviews in runtherunway['data'].items():\n",
    "    runtherunway_reviews_count += len(reviews)\n",
    "\n",
    "modcloth_reviews_count = 0\n",
    "for item_id, reviews in modcloth['data'].items():\n",
    "    modcloth_reviews_count += len(reviews)\n",
    "\n",
    "modcloth_items_count = len(modcloth['data'].keys())\n",
    "runtherunway_items_count = len(runtherunway['data'].keys())\n",
    "print(f'total items = {runtherunway_items_count} + {modcloth_items_count} = {modcloth_items_count + runtherunway_items_count}')\n",
    "print(f'total reviews = {runtherunway_reviews_count} + {modcloth_reviews_count} = {runtherunway_reviews_count} + {modcloth_reviews_count}')"
   ]
  },
  {
   "cell_type": "markdown",
   "metadata": {},
   "source": [
    "# TODO - Types of 'fit' (Classifications)"
   ]
  },
  {
   "cell_type": "code",
   "execution_count": null,
   "metadata": {},
   "outputs": [],
   "source": []
  },
  {
   "cell_type": "markdown",
   "metadata": {},
   "source": [
    "# TODO - Does user's 'height' influence 'fit'?"
   ]
  },
  {
   "cell_type": "code",
   "execution_count": null,
   "metadata": {},
   "outputs": [],
   "source": []
  },
  {
   "cell_type": "markdown",
   "metadata": {},
   "source": [
    "# TODO - Does item's 'size' influence 'fit'?"
   ]
  },
  {
   "cell_type": "code",
   "execution_count": null,
   "metadata": {},
   "outputs": [],
   "source": []
  },
  {
   "cell_type": "markdown",
   "metadata": {},
   "source": [
    "# TODO - Does user's 'review_text' + 'review_summary' influence 'fit'?"
   ]
  },
  {
   "cell_type": "code",
   "execution_count": null,
   "metadata": {},
   "outputs": [],
   "source": []
  },
  {
   "cell_type": "markdown",
   "metadata": {},
   "source": [
    "# TODO - (Runtherunway) Does user's 'age' or 'height' affect 'fit'?"
   ]
  },
  {
   "cell_type": "code",
   "execution_count": null,
   "metadata": {},
   "outputs": [],
   "source": []
  },
  {
   "cell_type": "markdown",
   "metadata": {},
   "source": [
    "# TODO - (Modcloth) Does user's 'waist' or 'hips' affect 'fit'?"
   ]
  },
  {
   "cell_type": "code",
   "execution_count": null,
   "metadata": {},
   "outputs": [],
   "source": []
  }
 ],
 "metadata": {
  "colab": {
   "authorship_tag": "ABX9TyPV1Zj2+l7Q/S02njquYrH+",
   "collapsed_sections": [
    "3eroqORw5kYm"
   ],
   "name": "main.ipynb",
   "provenance": []
  },
  "kernelspec": {
   "display_name": "Python 3",
   "language": "python",
   "name": "python3"
  },
  "language_info": {
   "codemirror_mode": {
    "name": "ipython",
    "version": 3
   },
   "file_extension": ".py",
   "mimetype": "text/x-python",
   "name": "python",
   "nbconvert_exporter": "python",
   "pygments_lexer": "ipython3",
   "version": "3.7.8"
  }
 },
 "nbformat": 4,
 "nbformat_minor": 1
}
